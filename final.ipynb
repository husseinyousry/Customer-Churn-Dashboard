{
 "cells": [
  {
   "cell_type": "code",
   "execution_count": 1,
   "id": "9110260e",
   "metadata": {},
   "outputs": [],
   "source": [
    "import pandas as pd\n",
    "import numpy as np\n",
    "import datetime as dt\n",
    "import matplotlib.pyplot as plt\n",
    "import warnings\n",
    "import seaborn as sns\n",
    "%matplotlib inline\n",
    "import plotly.express as px\n",
    "warnings.filterwarnings('ignore')\n",
    "import nbformat\n",
    "from nbconvert import PythonExporter\n",
    "import os\n",
    "import sys\n",
    "import plotly.io as pio\n",
    "pio.renderers.default = \"browser\"\n",
    "from sklearn.model_selection import train_test_split\n",
    "from sklearn.preprocessing import StandardScaler, OneHotEncoder\n",
    "from sklearn.compose import ColumnTransformer\n",
    "from sklearn.pipeline import Pipeline"
   ]
  },
  {
   "cell_type": "markdown",
   "id": "832ba8e6",
   "metadata": {},
   "source": [
    "## A- Data Cleaning and Preprocessing"
   ]
  },
  {
   "cell_type": "markdown",
   "id": "24746a07",
   "metadata": {},
   "source": [
    "## data cleaning for Customer_data.xlsx"
   ]
  },
  {
   "cell_type": "code",
   "execution_count": 2,
   "id": "cf6876ef",
   "metadata": {},
   "outputs": [],
   "source": [
    "## Load raw data from workbook excel file then select the required sheet to pandas dataframes\n",
    "cus_data = pd.read_excel('/run/media/yassien/Data/Data since/Epsilon AI/DSP/final_project/Raw_data.xlsx', sheet_name='customer_data')"
   ]
  },
  {
   "cell_type": "code",
   "execution_count": 3,
   "id": "a17b4f4b",
   "metadata": {},
   "outputs": [
    {
     "name": "stdout",
     "output_type": "stream",
     "text": [
      "<class 'pandas.core.frame.DataFrame'>\n",
      "RangeIndex: 4000 entries, 0 to 3999\n",
      "Data columns (total 13 columns):\n",
      " #   Column                               Non-Null Count  Dtype  \n",
      "---  ------                               --------------  -----  \n",
      " 0   customer_id                          4000 non-null   int64  \n",
      " 1   first_name                           4000 non-null   object \n",
      " 2   last_name                            3875 non-null   object \n",
      " 3   gender                               4000 non-null   object \n",
      " 4   past_3_years_bike_related_purchases  4000 non-null   int64  \n",
      " 5   DOB                                  3913 non-null   object \n",
      " 6   job_title                            3494 non-null   object \n",
      " 7   job_industry_category                3344 non-null   object \n",
      " 8   wealth_segment                       4000 non-null   object \n",
      " 9   deceased_indicator                   4000 non-null   object \n",
      " 10  default                              3698 non-null   object \n",
      " 11  owns_car                             4000 non-null   object \n",
      " 12  tenure                               3913 non-null   float64\n",
      "dtypes: float64(1), int64(2), object(10)\n",
      "memory usage: 406.4+ KB\n"
     ]
    }
   ],
   "source": [
    "## Display dataframe info, as we have 12 columns and 3999 rows in our dataframe\n",
    "cus_data.info()"
   ]
  },
  {
   "cell_type": "code",
   "execution_count": 4,
   "id": "f23b0ed1",
   "metadata": {},
   "outputs": [
    {
     "data": {
      "text/plain": [
       "customer_id                              0\n",
       "first_name                               0\n",
       "last_name                              125\n",
       "gender                                   0\n",
       "past_3_years_bike_related_purchases      0\n",
       "DOB                                     87\n",
       "job_title                              506\n",
       "job_industry_category                  656\n",
       "wealth_segment                           0\n",
       "deceased_indicator                       0\n",
       "default                                302\n",
       "owns_car                                 0\n",
       "tenure                                  87\n",
       "dtype: int64"
      ]
     },
     "execution_count": 4,
     "metadata": {},
     "output_type": "execute_result"
    }
   ],
   "source": [
    "## Check for missing values\n",
    "cus_data.isna().sum()"
   ]
  },
  {
   "cell_type": "code",
   "execution_count": 5,
   "id": "2803d42d",
   "metadata": {},
   "outputs": [],
   "source": [
    "## dropping default column since it has strange characters\n",
    "## standardizing column names to lower case and replacing spaces with underscores\n",
    "## filling missing values in last_name, job_title, job_industry_category columns by replacing the missing values with word 'missing' so we can gather those missing information from customer later then the columns can be used in model training\n",
    "cus_data.drop(['default'], axis=1, inplace=True)\n",
    "cus_data.columns = cus_data.columns.str.lower().str.replace(' ', '_')\n",
    "cus_data[['last_name','job_title','job_industry_category']] = cus_data[['last_name','job_title','job_industry_category']].fillna('missing')"
   ]
  },
  {
   "cell_type": "code",
   "execution_count": 6,
   "id": "17d6a3f0",
   "metadata": {},
   "outputs": [
    {
     "data": {
      "text/plain": [
       "Index([ 143,  167,  266,  289,  450,  452,  453,  479,  512,  525,  547,  581,\n",
       "        598,  679,  684,  798,  838,  882,  891,  949,  974,  982,  995, 1037,\n",
       "       1043, 1081, 1173, 1209, 1243, 1350, 1476, 1508, 1582, 1627, 1682, 1739,\n",
       "       1772, 1779, 1805, 1917, 1937, 1989, 1999, 2020, 2068, 2164, 2204, 2251,\n",
       "       2294, 2334, 2340, 2413, 2425, 2468, 2539, 2641, 2646, 2695, 2696, 2853,\n",
       "       2919, 2962, 2998, 3011, 3085, 3150, 3221, 3222, 3254, 3287, 3297, 3311,\n",
       "       3321, 3342, 3364, 3472, 3509, 3512, 3564, 3653, 3717, 3726, 3778, 3882,\n",
       "       3930, 3934, 3997],\n",
       "      dtype='int64')"
      ]
     },
     "execution_count": 6,
     "metadata": {},
     "output_type": "execute_result"
    }
   ],
   "source": [
    "## missing values in dob can't containe strings objects so we can use it in mathimatical operations, so we will index all missing indices values in dob column and drop them in the next step\n",
    "cus_data[cus_data['dob'].isna()].index"
   ]
  },
  {
   "cell_type": "code",
   "execution_count": 7,
   "id": "784aa268",
   "metadata": {},
   "outputs": [
    {
     "name": "stdout",
     "output_type": "stream",
     "text": [
      "<class 'pandas.core.frame.DataFrame'>\n",
      "Index: 3913 entries, 0 to 3999\n",
      "Data columns (total 12 columns):\n",
      " #   Column                               Non-Null Count  Dtype         \n",
      "---  ------                               --------------  -----         \n",
      " 0   customer_id                          3913 non-null   int64         \n",
      " 1   first_name                           3913 non-null   object        \n",
      " 2   last_name                            3913 non-null   object        \n",
      " 3   gender                               3913 non-null   object        \n",
      " 4   past_3_years_bike_related_purchases  3913 non-null   int64         \n",
      " 5   dob                                  3913 non-null   datetime64[ns]\n",
      " 6   job_title                            3913 non-null   object        \n",
      " 7   job_industry_category                3913 non-null   object        \n",
      " 8   wealth_segment                       3913 non-null   object        \n",
      " 9   deceased_indicator                   3913 non-null   object        \n",
      " 10  owns_car                             3913 non-null   object        \n",
      " 11  tenure                               3913 non-null   float64       \n",
      "dtypes: datetime64[ns](1), float64(1), int64(2), object(8)\n",
      "memory usage: 397.4+ KB\n"
     ]
    }
   ],
   "source": [
    "## drop all missing values in dob (87 row) since it's a small portion of the data then convert it to datetime format so we can use it in mathimatical operations\n",
    "cus_data.drop(cus_data[cus_data['dob'].isna()].index, inplace=True)\n",
    "cus_data['dob'] = pd.to_datetime(cus_data['dob'])\n",
    "cus_data.info()"
   ]
  },
  {
   "cell_type": "code",
   "execution_count": 8,
   "id": "c7a84eb4",
   "metadata": {},
   "outputs": [],
   "source": [
    "## after cleaning and converting dob column to datetime format, I created a new column \"age\" by subtracting current year from the year in dob column\n",
    "cus_data['age'] = pd.to_datetime('today').year - cus_data['dob'].dt.year"
   ]
  },
  {
   "cell_type": "code",
   "execution_count": 9,
   "id": "8c6dc337",
   "metadata": {},
   "outputs": [
    {
     "name": "stdout",
     "output_type": "stream",
     "text": [
      "<class 'pandas.core.frame.DataFrame'>\n",
      "Index: 3913 entries, 0 to 3999\n",
      "Data columns (total 13 columns):\n",
      " #   Column                               Non-Null Count  Dtype         \n",
      "---  ------                               --------------  -----         \n",
      " 0   customer_id                          3913 non-null   int64         \n",
      " 1   first_name                           3913 non-null   object        \n",
      " 2   last_name                            3913 non-null   object        \n",
      " 3   gender                               3913 non-null   object        \n",
      " 4   past_3_years_bike_related_purchases  3913 non-null   int64         \n",
      " 5   dob                                  3913 non-null   datetime64[ns]\n",
      " 6   job_title                            3913 non-null   object        \n",
      " 7   job_industry_category                3913 non-null   object        \n",
      " 8   wealth_segment                       3913 non-null   object        \n",
      " 9   deceased_indicator                   3913 non-null   object        \n",
      " 10  owns_car                             3913 non-null   object        \n",
      " 11  tenure                               3913 non-null   float64       \n",
      " 12  age                                  3913 non-null   int32         \n",
      "dtypes: datetime64[ns](1), float64(1), int32(1), int64(2), object(8)\n",
      "memory usage: 412.7+ KB\n"
     ]
    }
   ],
   "source": [
    "##  Check again for any missing values in the intire dataframe\n",
    "cus_data.isna().sum()\n",
    "cus_data.info()"
   ]
  },
  {
   "cell_type": "code",
   "execution_count": 10,
   "id": "e1d8aeeb",
   "metadata": {},
   "outputs": [
    {
     "data": {
      "text/plain": [
       "count    3913.000000\n",
       "mean       47.969333\n",
       "std        12.796387\n",
       "min        23.000000\n",
       "25%        38.000000\n",
       "50%        48.000000\n",
       "75%        57.000000\n",
       "max       182.000000\n",
       "Name: age, dtype: float64"
      ]
     },
     "execution_count": 10,
     "metadata": {},
     "output_type": "execute_result"
    },
    {
     "data": {
      "image/png": "[encoded data removed]",
      "text/plain": [
       "<Figure size 640x480 with 1 Axes>"
      ]
     },
     "metadata": {},
     "output_type": "display_data"
    }
   ],
   "source": [
    "## plotting the age distribution, then we can flag any outliers in the column\n",
    "sns.histplot(cus_data['age'])\n",
    "cus_data['age'].describe()"
   ]
  },
  {
   "cell_type": "code",
   "execution_count": 11,
   "id": "3a0b860f",
   "metadata": {},
   "outputs": [
    {
     "data": {
      "text/html": [
       "<div>\n",
       "<style scoped>\n",
       "    .dataframe tbody tr th:only-of-type {\n",
       "        vertical-align: middle;\n",
       "    }\n",
       "\n",
       "    .dataframe tbody tr th {\n",
       "        vertical-align: top;\n",
       "    }\n",
       "\n",
       "    .dataframe thead th {\n",
       "        text-align: right;\n",
       "    }\n",
       "</style>\n",
       "<table border=\"1\" class=\"dataframe\">\n",
       "  <thead>\n",
       "    <tr style=\"text-align: right;\">\n",
       "      <th></th>\n",
       "      <th>customer_id</th>\n",
       "      <th>first_name</th>\n",
       "      <th>last_name</th>\n",
       "      <th>gender</th>\n",
       "      <th>past_3_years_bike_related_purchases</th>\n",
       "      <th>dob</th>\n",
       "      <th>job_title</th>\n",
       "      <th>job_industry_category</th>\n",
       "      <th>wealth_segment</th>\n",
       "      <th>deceased_indicator</th>\n",
       "      <th>owns_car</th>\n",
       "      <th>tenure</th>\n",
       "      <th>age</th>\n",
       "    </tr>\n",
       "  </thead>\n",
       "  <tbody>\n",
       "    <tr>\n",
       "      <th>33</th>\n",
       "      <td>34</td>\n",
       "      <td>Jephthah</td>\n",
       "      <td>Bachmann</td>\n",
       "      <td>U</td>\n",
       "      <td>59</td>\n",
       "      <td>1843-12-21</td>\n",
       "      <td>Legal Assistant</td>\n",
       "      <td>IT</td>\n",
       "      <td>Affluent Customer</td>\n",
       "      <td>N</td>\n",
       "      <td>No</td>\n",
       "      <td>20.0</td>\n",
       "      <td>182</td>\n",
       "    </tr>\n",
       "  </tbody>\n",
       "</table>\n",
       "</div>"
      ],
      "text/plain": [
       "    customer_id first_name last_name gender  \\\n",
       "33           34   Jephthah  Bachmann      U   \n",
       "\n",
       "    past_3_years_bike_related_purchases        dob        job_title  \\\n",
       "33                                   59 1843-12-21  Legal Assistant   \n",
       "\n",
       "   job_industry_category     wealth_segment deceased_indicator owns_car  \\\n",
       "33                    IT  Affluent Customer                  N       No   \n",
       "\n",
       "    tenure  age  \n",
       "33    20.0  182  "
      ]
     },
     "execution_count": 11,
     "metadata": {},
     "output_type": "execute_result"
    }
   ],
   "source": [
    "## after noticing that only one customer has age of 182 years which is considered an outlier, I will index it then drop it from age column.\n",
    "cus_data[cus_data['age'] >100]"
   ]
  },
  {
   "cell_type": "code",
   "execution_count": 12,
   "id": "3c2efdd7",
   "metadata": {},
   "outputs": [],
   "source": [
    "## dropping the outlier from age column\n",
    "cus_data.drop(cus_data[cus_data['age'] > 100].index, inplace=True)"
   ]
  },
  {
   "cell_type": "code",
   "execution_count": 13,
   "id": "ae2367ca",
   "metadata": {},
   "outputs": [
    {
     "data": {
      "text/html": [
       "<div>\n",
       "<style scoped>\n",
       "    .dataframe tbody tr th:only-of-type {\n",
       "        vertical-align: middle;\n",
       "    }\n",
       "\n",
       "    .dataframe tbody tr th {\n",
       "        vertical-align: top;\n",
       "    }\n",
       "\n",
       "    .dataframe thead th {\n",
       "        text-align: right;\n",
       "    }\n",
       "</style>\n",
       "<table border=\"1\" class=\"dataframe\">\n",
       "  <thead>\n",
       "    <tr style=\"text-align: right;\">\n",
       "      <th></th>\n",
       "      <th>first_name</th>\n",
       "      <th>last_name</th>\n",
       "      <th>gender</th>\n",
       "      <th>job_title</th>\n",
       "      <th>job_industry_category</th>\n",
       "      <th>wealth_segment</th>\n",
       "      <th>deceased_indicator</th>\n",
       "      <th>owns_car</th>\n",
       "    </tr>\n",
       "  </thead>\n",
       "  <tbody>\n",
       "    <tr>\n",
       "      <th>count</th>\n",
       "      <td>3912</td>\n",
       "      <td>3912</td>\n",
       "      <td>3912</td>\n",
       "      <td>3912</td>\n",
       "      <td>3912</td>\n",
       "      <td>3912</td>\n",
       "      <td>3912</td>\n",
       "      <td>3912</td>\n",
       "    </tr>\n",
       "    <tr>\n",
       "      <th>unique</th>\n",
       "      <td>3078</td>\n",
       "      <td>3647</td>\n",
       "      <td>5</td>\n",
       "      <td>196</td>\n",
       "      <td>10</td>\n",
       "      <td>3</td>\n",
       "      <td>2</td>\n",
       "      <td>2</td>\n",
       "    </tr>\n",
       "    <tr>\n",
       "      <th>top</th>\n",
       "      <td>Tobe</td>\n",
       "      <td>missing</td>\n",
       "      <td>Female</td>\n",
       "      <td>missing</td>\n",
       "      <td>Manufacturing</td>\n",
       "      <td>Mass Customer</td>\n",
       "      <td>N</td>\n",
       "      <td>Yes</td>\n",
       "    </tr>\n",
       "    <tr>\n",
       "      <th>freq</th>\n",
       "      <td>5</td>\n",
       "      <td>121</td>\n",
       "      <td>2037</td>\n",
       "      <td>497</td>\n",
       "      <td>796</td>\n",
       "      <td>1954</td>\n",
       "      <td>3910</td>\n",
       "      <td>1974</td>\n",
       "    </tr>\n",
       "  </tbody>\n",
       "</table>\n",
       "</div>"
      ],
      "text/plain": [
       "       first_name last_name  gender job_title job_industry_category  \\\n",
       "count        3912      3912    3912      3912                  3912   \n",
       "unique       3078      3647       5       196                    10   \n",
       "top          Tobe   missing  Female   missing         Manufacturing   \n",
       "freq            5       121    2037       497                   796   \n",
       "\n",
       "       wealth_segment deceased_indicator owns_car  \n",
       "count            3912               3912     3912  \n",
       "unique              3                  2        2  \n",
       "top     Mass Customer                  N      Yes  \n",
       "freq             1954               3910     1974  "
      ]
     },
     "execution_count": 13,
     "metadata": {},
     "output_type": "execute_result"
    }
   ],
   "source": [
    "## checking the categorical columns statistics\n",
    "cus_data.describe(include='object')"
   ]
  },
  {
   "cell_type": "code",
   "execution_count": 14,
   "id": "508d520d",
   "metadata": {},
   "outputs": [
    {
     "data": {
      "text/plain": [
       "owns_car\n",
       "Yes    1974\n",
       "No     1938\n",
       "Name: count, dtype: int64"
      ]
     },
     "execution_count": 14,
     "metadata": {},
     "output_type": "execute_result"
    }
   ],
   "source": [
    "## checking the unique values in \"owns_car\" columns\n",
    "cus_data['owns_car'].value_counts()"
   ]
  },
  {
   "cell_type": "code",
   "execution_count": 15,
   "id": "9c41edb8",
   "metadata": {},
   "outputs": [
    {
     "data": {
      "text/plain": [
       "gender\n",
       "Female    2037\n",
       "Male      1872\n",
       "F            1\n",
       "Femal        1\n",
       "M            1\n",
       "Name: count, dtype: int64"
      ]
     },
     "execution_count": 15,
     "metadata": {},
     "output_type": "execute_result"
    }
   ],
   "source": [
    "## checking the unique values in \"gender\" columns\n",
    "cus_data['gender'].value_counts()\n"
   ]
  },
  {
   "cell_type": "code",
   "execution_count": 16,
   "id": "72ed01d7",
   "metadata": {},
   "outputs": [],
   "source": [
    "## we see inconsistent data in \"gender\" column, as some values were misspelled  like \"Femal\" or abbreviated \"F  & M\". So I defined a function to standardize and unify those values to be either \"Male\" or \"Female\"\n",
    "\n",
    "def clean_gender(x):\n",
    "    if x in  ['F', 'Femal']:\n",
    "        return 'Female'\n",
    "    elif x == 'M':\n",
    "        return 'Male'\n",
    "\n",
    "    else :\n",
    "        return x\n",
    "\n",
    "cus_data['gender'] = cus_data['gender'].apply(clean_gender)"
   ]
  },
  {
   "cell_type": "code",
   "execution_count": 17,
   "id": "b746fcfb",
   "metadata": {},
   "outputs": [
    {
     "data": {
      "text/plain": [
       "gender\n",
       "Female    2039\n",
       "Male      1873\n",
       "Name: count, dtype: int64"
      ]
     },
     "execution_count": 17,
     "metadata": {},
     "output_type": "execute_result"
    }
   ],
   "source": [
    "## recheck the unique values in \"gender\" column after applying the function\n",
    "cus_data['gender'].value_counts()\n"
   ]
  },
  {
   "cell_type": "code",
   "execution_count": 18,
   "id": "2f8c5aa8",
   "metadata": {},
   "outputs": [
    {
     "data": {
      "text/plain": [
       "wealth_segment\n",
       "Mass Customer        1954\n",
       "High Net Worth        996\n",
       "Affluent Customer     962\n",
       "Name: count, dtype: int64"
      ]
     },
     "execution_count": 18,
     "metadata": {},
     "output_type": "execute_result"
    }
   ],
   "source": [
    "## checking the unique values in \"wealth_segment\" columns\n",
    "cus_data['wealth_segment'].value_counts()"
   ]
  },
  {
   "cell_type": "code",
   "execution_count": 19,
   "id": "af8c16cf",
   "metadata": {},
   "outputs": [
    {
     "data": {
      "text/plain": [
       "np.int64(0)"
      ]
     },
     "execution_count": 19,
     "metadata": {},
     "output_type": "execute_result"
    }
   ],
   "source": [
    "## checking for any duplication in the dataframe\n",
    "cus_data.duplicated().sum()"
   ]
  },
  {
   "cell_type": "code",
   "execution_count": 20,
   "id": "b81faf4f",
   "metadata": {},
   "outputs": [],
   "source": [
    "## Exporting the cleaned customer demographic sheet into a separated and new csv file\n",
    "cus_data.to_csv('/run/media/yassien/Data/Data since/Epsilon AI/DSP/final_project/Raw_data_customer_data_cleaned.csv', index=False)"
   ]
  },
  {
   "cell_type": "markdown",
   "id": "ad6b60d5",
   "metadata": {},
   "source": [
    "## data cleaning and preprocessing for Customer Address"
   ]
  },
  {
   "cell_type": "code",
   "execution_count": 21,
   "id": "d8bb1bec",
   "metadata": {},
   "outputs": [
    {
     "data": {
      "text/html": [
       "<div>\n",
       "<style scoped>\n",
       "    .dataframe tbody tr th:only-of-type {\n",
       "        vertical-align: middle;\n",
       "    }\n",
       "\n",
       "    .dataframe tbody tr th {\n",
       "        vertical-align: top;\n",
       "    }\n",
       "\n",
       "    .dataframe thead th {\n",
       "        text-align: right;\n",
       "    }\n",
       "</style>\n",
       "<table border=\"1\" class=\"dataframe\">\n",
       "  <thead>\n",
       "    <tr style=\"text-align: right;\">\n",
       "      <th></th>\n",
       "      <th>customer_id</th>\n",
       "      <th>address</th>\n",
       "      <th>postcode</th>\n",
       "      <th>state</th>\n",
       "      <th>country</th>\n",
       "      <th>property_valuation</th>\n",
       "    </tr>\n",
       "  </thead>\n",
       "  <tbody>\n",
       "    <tr>\n",
       "      <th>2883</th>\n",
       "      <td>2888</td>\n",
       "      <td>5674 Superior Point</td>\n",
       "      <td>2528</td>\n",
       "      <td>NSW</td>\n",
       "      <td>Australia</td>\n",
       "      <td>7</td>\n",
       "    </tr>\n",
       "    <tr>\n",
       "      <th>2413</th>\n",
       "      <td>2418</td>\n",
       "      <td>31168 Messerschmidt Street</td>\n",
       "      <td>3024</td>\n",
       "      <td>VIC</td>\n",
       "      <td>Australia</td>\n",
       "      <td>5</td>\n",
       "    </tr>\n",
       "    <tr>\n",
       "      <th>2356</th>\n",
       "      <td>2361</td>\n",
       "      <td>89 Pawling Court</td>\n",
       "      <td>4020</td>\n",
       "      <td>QLD</td>\n",
       "      <td>Australia</td>\n",
       "      <td>7</td>\n",
       "    </tr>\n",
       "    <tr>\n",
       "      <th>634</th>\n",
       "      <td>639</td>\n",
       "      <td>44 Upham Crossing</td>\n",
       "      <td>2148</td>\n",
       "      <td>NSW</td>\n",
       "      <td>Australia</td>\n",
       "      <td>7</td>\n",
       "    </tr>\n",
       "    <tr>\n",
       "      <th>2093</th>\n",
       "      <td>2098</td>\n",
       "      <td>794 Kennedy Court</td>\n",
       "      <td>4740</td>\n",
       "      <td>QLD</td>\n",
       "      <td>Australia</td>\n",
       "      <td>2</td>\n",
       "    </tr>\n",
       "  </tbody>\n",
       "</table>\n",
       "</div>"
      ],
      "text/plain": [
       "      customer_id                     address  postcode state    country  \\\n",
       "2883         2888         5674 Superior Point      2528   NSW  Australia   \n",
       "2413         2418  31168 Messerschmidt Street      3024   VIC  Australia   \n",
       "2356         2361            89 Pawling Court      4020   QLD  Australia   \n",
       "634           639           44 Upham Crossing      2148   NSW  Australia   \n",
       "2093         2098           794 Kennedy Court      4740   QLD  Australia   \n",
       "\n",
       "      property_valuation  \n",
       "2883                   7  \n",
       "2413                   5  \n",
       "2356                   7  \n",
       "634                    7  \n",
       "2093                   2  "
      ]
     },
     "execution_count": 21,
     "metadata": {},
     "output_type": "execute_result"
    }
   ],
   "source": [
    "## data cleaning and preprocessing for CustomerAddress sheet\n",
    "## Load raw data from workbook excel file then select the customer address sheet to pandas dataframe\n",
    "cus_add = pd.read_excel(\"/run/media/yassien/Data/Data since/Epsilon AI/DSP/final_project/Raw_data.xlsx\", sheet_name=\"customer_address\")\n",
    "cus_add.sample(5)"
   ]
  },
  {
   "cell_type": "code",
   "execution_count": 22,
   "id": "b4259b4f",
   "metadata": {},
   "outputs": [
    {
     "name": "stdout",
     "output_type": "stream",
     "text": [
      "<class 'pandas.core.frame.DataFrame'>\n",
      "RangeIndex: 3999 entries, 0 to 3998\n",
      "Data columns (total 6 columns):\n",
      " #   Column              Non-Null Count  Dtype \n",
      "---  ------              --------------  ----- \n",
      " 0   customer_id         3999 non-null   int64 \n",
      " 1   address             3999 non-null   object\n",
      " 2   postcode            3999 non-null   int64 \n",
      " 3   state               3999 non-null   object\n",
      " 4   country             3999 non-null   object\n",
      " 5   property_valuation  3999 non-null   int64 \n",
      "dtypes: int64(3), object(3)\n",
      "memory usage: 187.6+ KB\n"
     ]
    }
   ],
   "source": [
    "## Display dataframe info and check for any missing values\n",
    "cus_add.info()"
   ]
  },
  {
   "cell_type": "code",
   "execution_count": 23,
   "id": "f00cf02b",
   "metadata": {},
   "outputs": [
    {
     "data": {
      "text/plain": [
       "country\n",
       "Australia    3999\n",
       "Name: count, dtype: int64"
      ]
     },
     "execution_count": 23,
     "metadata": {},
     "output_type": "execute_result"
    }
   ],
   "source": [
    "## checking the unique values in \"country\" columns\n",
    "cus_add['country'].value_counts()"
   ]
  },
  {
   "cell_type": "code",
   "execution_count": 24,
   "id": "ff6bcfa9",
   "metadata": {},
   "outputs": [
    {
     "data": {
      "text/plain": [
       "state\n",
       "NSW                2054\n",
       "VIC                 939\n",
       "QLD                 838\n",
       "New South Wales      86\n",
       "Victoria             82\n",
       "Name: count, dtype: int64"
      ]
     },
     "execution_count": 24,
     "metadata": {},
     "output_type": "execute_result"
    }
   ],
   "source": [
    "## checking the unique values in \"state\" columns\n",
    "cus_add['state'].value_counts()"
   ]
  },
  {
   "cell_type": "code",
   "execution_count": 25,
   "id": "b64315ce",
   "metadata": {},
   "outputs": [],
   "source": [
    "## we see inconsistent data in \"state\" column, as some values were not abbreviated like \"New South Wales\" or \"Victoria\". So I defined a function to standardize and unify those values to be either NSW, VIC or QLD\n",
    "\n",
    "def clean_state(x):\n",
    "    if x == 'New South Wales':\n",
    "        return 'NSW'\n",
    "    elif x == 'Victoria':\n",
    "        return 'VIC'\n",
    "    else:\n",
    "        return x\n",
    "cus_add['state'] = cus_add['state'].apply(clean_state)"
   ]
  },
  {
   "cell_type": "code",
   "execution_count": 26,
   "id": "7d1cbcbc",
   "metadata": {},
   "outputs": [
    {
     "data": {
      "text/plain": [
       "state\n",
       "NSW    2140\n",
       "VIC    1021\n",
       "QLD     838\n",
       "Name: count, dtype: int64"
      ]
     },
     "execution_count": 26,
     "metadata": {},
     "output_type": "execute_result"
    }
   ],
   "source": [
    "## checking the unique values in \"state\" columns after applying the function\n",
    "cus_add['state'].value_counts()"
   ]
  },
  {
   "cell_type": "code",
   "execution_count": 27,
   "id": "f1c5def5",
   "metadata": {},
   "outputs": [
    {
     "data": {
      "text/plain": [
       "np.int64(0)"
      ]
     },
     "execution_count": 27,
     "metadata": {},
     "output_type": "execute_result"
    }
   ],
   "source": [
    "## checking for any duplication in the dataframe\n",
    "cus_add.duplicated().sum()"
   ]
  },
  {
   "cell_type": "code",
   "execution_count": 28,
   "id": "c1d4b38d",
   "metadata": {},
   "outputs": [],
   "source": [
    "## Exporting the cleaned customer address sheet into a separated and new csv file\n",
    "cus_add.to_csv(\"/run/media/yassien/Data/Data since/Epsilon AI/DSP/final_project/Raw_data_cus_address_cleaned.csv\", index=False)"
   ]
  },
  {
   "cell_type": "markdown",
   "id": "8cc24fda",
   "metadata": {},
   "source": [
    "## data cleaning and preprocessing for Transactions"
   ]
  },
  {
   "cell_type": "code",
   "execution_count": 29,
   "id": "e74804ec",
   "metadata": {},
   "outputs": [],
   "source": [
    "## Load raw data from workbook excel file then select the Transactions sheet to pandas dataframe\n",
    "cust_trans = pd.read_excel(\"/run/media/yassien/Data/Data since/Epsilon AI/DSP/final_project/Raw_data.xlsx\", sheet_name=\"transactions\")"
   ]
  },
  {
   "cell_type": "code",
   "execution_count": 30,
   "id": "44e1a031",
   "metadata": {},
   "outputs": [
    {
     "name": "stdout",
     "output_type": "stream",
     "text": [
      "<class 'pandas.core.frame.DataFrame'>\n",
      "RangeIndex: 20000 entries, 0 to 19999\n",
      "Data columns (total 13 columns):\n",
      " #   Column                   Non-Null Count  Dtype         \n",
      "---  ------                   --------------  -----         \n",
      " 0   transaction_id           20000 non-null  int64         \n",
      " 1   product_id               20000 non-null  int64         \n",
      " 2   customer_id              20000 non-null  int64         \n",
      " 3   transaction_date         20000 non-null  datetime64[ns]\n",
      " 4   online_order             19640 non-null  float64       \n",
      " 5   order_status             20000 non-null  object        \n",
      " 6   brand                    19803 non-null  object        \n",
      " 7   product_line             19803 non-null  object        \n",
      " 8   product_class            19803 non-null  object        \n",
      " 9   product_size             19803 non-null  object        \n",
      " 10  list_price               20000 non-null  float64       \n",
      " 11  standard_cost            19803 non-null  float64       \n",
      " 12  product_first_sold_date  19803 non-null  float64       \n",
      "dtypes: datetime64[ns](1), float64(4), int64(3), object(5)\n",
      "memory usage: 2.0+ MB\n"
     ]
    }
   ],
   "source": [
    "## Display dataframe info and check for any missing values\n",
    "cust_trans.info()"
   ]
  },
  {
   "cell_type": "code",
   "execution_count": 31,
   "id": "86dadf38",
   "metadata": {},
   "outputs": [
    {
     "data": {
      "text/plain": [
       "np.int64(0)"
      ]
     },
     "execution_count": 31,
     "metadata": {},
     "output_type": "execute_result"
    }
   ],
   "source": [
    "## checking for any duplication in the dataframe\n",
    "cust_trans.duplicated().sum()"
   ]
  },
  {
   "cell_type": "code",
   "execution_count": 32,
   "id": "43efa469",
   "metadata": {},
   "outputs": [
    {
     "data": {
      "text/plain": [
       "transaction_id               0\n",
       "product_id                   0\n",
       "customer_id                  0\n",
       "transaction_date             0\n",
       "online_order               360\n",
       "order_status                 0\n",
       "brand                      197\n",
       "product_line               197\n",
       "product_class              197\n",
       "product_size               197\n",
       "list_price                   0\n",
       "standard_cost              197\n",
       "product_first_sold_date    197\n",
       "dtype: int64"
      ]
     },
     "execution_count": 32,
     "metadata": {},
     "output_type": "execute_result"
    }
   ],
   "source": [
    "## checking for any missing values\n",
    "cust_trans.isna().sum()"
   ]
  },
  {
   "cell_type": "code",
   "execution_count": 33,
   "id": "3848235f",
   "metadata": {},
   "outputs": [
    {
     "data": {
      "text/plain": [
       "online_order\n",
       "1.0    9829\n",
       "0.0    9811\n",
       "Name: count, dtype: int64"
      ]
     },
     "execution_count": 33,
     "metadata": {},
     "output_type": "execute_result"
    }
   ],
   "source": [
    "## checking the unique values in \"online_order\" columns\n",
    "cust_trans['online_order'].value_counts()"
   ]
  },
  {
   "cell_type": "code",
   "execution_count": 34,
   "id": "20f3ead4",
   "metadata": {},
   "outputs": [],
   "source": [
    "## filling the missing values in \"online_order\" column by replacing the missing values with the mode of the column since online orders are the most frequent type of orders\n",
    "cust_trans['online_order'].fillna(cust_trans['online_order'].mode()[0], inplace=True)"
   ]
  },
  {
   "cell_type": "code",
   "execution_count": 35,
   "id": "494e1adb",
   "metadata": {},
   "outputs": [
    {
     "data": {
      "text/html": [
       "<div>\n",
       "<style scoped>\n",
       "    .dataframe tbody tr th:only-of-type {\n",
       "        vertical-align: middle;\n",
       "    }\n",
       "\n",
       "    .dataframe tbody tr th {\n",
       "        vertical-align: top;\n",
       "    }\n",
       "\n",
       "    .dataframe thead th {\n",
       "        text-align: right;\n",
       "    }\n",
       "</style>\n",
       "<table border=\"1\" class=\"dataframe\">\n",
       "  <thead>\n",
       "    <tr style=\"text-align: right;\">\n",
       "      <th></th>\n",
       "      <th>transaction_id</th>\n",
       "      <th>product_id</th>\n",
       "      <th>customer_id</th>\n",
       "      <th>transaction_date</th>\n",
       "      <th>online_order</th>\n",
       "      <th>order_status</th>\n",
       "      <th>brand</th>\n",
       "      <th>product_line</th>\n",
       "      <th>product_class</th>\n",
       "      <th>product_size</th>\n",
       "      <th>list_price</th>\n",
       "      <th>standard_cost</th>\n",
       "      <th>product_first_sold_date</th>\n",
       "    </tr>\n",
       "  </thead>\n",
       "  <tbody>\n",
       "    <tr>\n",
       "      <th>136</th>\n",
       "      <td>137</td>\n",
       "      <td>0</td>\n",
       "      <td>431</td>\n",
       "      <td>2017-09-23</td>\n",
       "      <td>0.0</td>\n",
       "      <td>Approved</td>\n",
       "      <td>NaN</td>\n",
       "      <td>NaN</td>\n",
       "      <td>NaN</td>\n",
       "      <td>NaN</td>\n",
       "      <td>1942.61</td>\n",
       "      <td>NaN</td>\n",
       "      <td>NaN</td>\n",
       "    </tr>\n",
       "    <tr>\n",
       "      <th>159</th>\n",
       "      <td>160</td>\n",
       "      <td>0</td>\n",
       "      <td>3300</td>\n",
       "      <td>2017-08-27</td>\n",
       "      <td>0.0</td>\n",
       "      <td>Approved</td>\n",
       "      <td>NaN</td>\n",
       "      <td>NaN</td>\n",
       "      <td>NaN</td>\n",
       "      <td>NaN</td>\n",
       "      <td>1656.86</td>\n",
       "      <td>NaN</td>\n",
       "      <td>NaN</td>\n",
       "    </tr>\n",
       "    <tr>\n",
       "      <th>366</th>\n",
       "      <td>367</td>\n",
       "      <td>0</td>\n",
       "      <td>1614</td>\n",
       "      <td>2017-03-10</td>\n",
       "      <td>0.0</td>\n",
       "      <td>Approved</td>\n",
       "      <td>NaN</td>\n",
       "      <td>NaN</td>\n",
       "      <td>NaN</td>\n",
       "      <td>NaN</td>\n",
       "      <td>850.89</td>\n",
       "      <td>NaN</td>\n",
       "      <td>NaN</td>\n",
       "    </tr>\n",
       "    <tr>\n",
       "      <th>406</th>\n",
       "      <td>407</td>\n",
       "      <td>0</td>\n",
       "      <td>2559</td>\n",
       "      <td>2017-06-14</td>\n",
       "      <td>1.0</td>\n",
       "      <td>Approved</td>\n",
       "      <td>NaN</td>\n",
       "      <td>NaN</td>\n",
       "      <td>NaN</td>\n",
       "      <td>NaN</td>\n",
       "      <td>710.59</td>\n",
       "      <td>NaN</td>\n",
       "      <td>NaN</td>\n",
       "    </tr>\n",
       "    <tr>\n",
       "      <th>676</th>\n",
       "      <td>677</td>\n",
       "      <td>0</td>\n",
       "      <td>2609</td>\n",
       "      <td>2017-07-02</td>\n",
       "      <td>0.0</td>\n",
       "      <td>Approved</td>\n",
       "      <td>NaN</td>\n",
       "      <td>NaN</td>\n",
       "      <td>NaN</td>\n",
       "      <td>NaN</td>\n",
       "      <td>1972.01</td>\n",
       "      <td>NaN</td>\n",
       "      <td>NaN</td>\n",
       "    </tr>\n",
       "    <tr>\n",
       "      <th>...</th>\n",
       "      <td>...</td>\n",
       "      <td>...</td>\n",
       "      <td>...</td>\n",
       "      <td>...</td>\n",
       "      <td>...</td>\n",
       "      <td>...</td>\n",
       "      <td>...</td>\n",
       "      <td>...</td>\n",
       "      <td>...</td>\n",
       "      <td>...</td>\n",
       "      <td>...</td>\n",
       "      <td>...</td>\n",
       "      <td>...</td>\n",
       "    </tr>\n",
       "    <tr>\n",
       "      <th>19340</th>\n",
       "      <td>19341</td>\n",
       "      <td>0</td>\n",
       "      <td>443</td>\n",
       "      <td>2017-12-26</td>\n",
       "      <td>1.0</td>\n",
       "      <td>Approved</td>\n",
       "      <td>NaN</td>\n",
       "      <td>NaN</td>\n",
       "      <td>NaN</td>\n",
       "      <td>NaN</td>\n",
       "      <td>744.54</td>\n",
       "      <td>NaN</td>\n",
       "      <td>NaN</td>\n",
       "    </tr>\n",
       "    <tr>\n",
       "      <th>19383</th>\n",
       "      <td>19384</td>\n",
       "      <td>0</td>\n",
       "      <td>2407</td>\n",
       "      <td>2017-06-11</td>\n",
       "      <td>0.0</td>\n",
       "      <td>Approved</td>\n",
       "      <td>NaN</td>\n",
       "      <td>NaN</td>\n",
       "      <td>NaN</td>\n",
       "      <td>NaN</td>\n",
       "      <td>1098.18</td>\n",
       "      <td>NaN</td>\n",
       "      <td>NaN</td>\n",
       "    </tr>\n",
       "    <tr>\n",
       "      <th>19793</th>\n",
       "      <td>19794</td>\n",
       "      <td>0</td>\n",
       "      <td>2860</td>\n",
       "      <td>2017-01-13</td>\n",
       "      <td>0.0</td>\n",
       "      <td>Approved</td>\n",
       "      <td>NaN</td>\n",
       "      <td>NaN</td>\n",
       "      <td>NaN</td>\n",
       "      <td>NaN</td>\n",
       "      <td>868.56</td>\n",
       "      <td>NaN</td>\n",
       "      <td>NaN</td>\n",
       "    </tr>\n",
       "    <tr>\n",
       "      <th>19859</th>\n",
       "      <td>19860</td>\n",
       "      <td>0</td>\n",
       "      <td>2468</td>\n",
       "      <td>2017-06-24</td>\n",
       "      <td>1.0</td>\n",
       "      <td>Approved</td>\n",
       "      <td>NaN</td>\n",
       "      <td>NaN</td>\n",
       "      <td>NaN</td>\n",
       "      <td>NaN</td>\n",
       "      <td>1497.43</td>\n",
       "      <td>NaN</td>\n",
       "      <td>NaN</td>\n",
       "    </tr>\n",
       "    <tr>\n",
       "      <th>19871</th>\n",
       "      <td>19872</td>\n",
       "      <td>0</td>\n",
       "      <td>61</td>\n",
       "      <td>2017-03-17</td>\n",
       "      <td>1.0</td>\n",
       "      <td>Approved</td>\n",
       "      <td>NaN</td>\n",
       "      <td>NaN</td>\n",
       "      <td>NaN</td>\n",
       "      <td>NaN</td>\n",
       "      <td>867.92</td>\n",
       "      <td>NaN</td>\n",
       "      <td>NaN</td>\n",
       "    </tr>\n",
       "  </tbody>\n",
       "</table>\n",
       "<p>197 rows × 13 columns</p>\n",
       "</div>"
      ],
      "text/plain": [
       "       transaction_id  product_id  customer_id transaction_date  online_order  \\\n",
       "136               137           0          431       2017-09-23           0.0   \n",
       "159               160           0         3300       2017-08-27           0.0   \n",
       "366               367           0         1614       2017-03-10           0.0   \n",
       "406               407           0         2559       2017-06-14           1.0   \n",
       "676               677           0         2609       2017-07-02           0.0   \n",
       "...               ...         ...          ...              ...           ...   \n",
       "19340           19341           0          443       2017-12-26           1.0   \n",
       "19383           19384           0         2407       2017-06-11           0.0   \n",
       "19793           19794           0         2860       2017-01-13           0.0   \n",
       "19859           19860           0         2468       2017-06-24           1.0   \n",
       "19871           19872           0           61       2017-03-17           1.0   \n",
       "\n",
       "      order_status brand product_line product_class product_size  list_price  \\\n",
       "136       Approved   NaN          NaN           NaN          NaN     1942.61   \n",
       "159       Approved   NaN          NaN           NaN          NaN     1656.86   \n",
       "366       Approved   NaN          NaN           NaN          NaN      850.89   \n",
       "406       Approved   NaN          NaN           NaN          NaN      710.59   \n",
       "676       Approved   NaN          NaN           NaN          NaN     1972.01   \n",
       "...            ...   ...          ...           ...          ...         ...   \n",
       "19340     Approved   NaN          NaN           NaN          NaN      744.54   \n",
       "19383     Approved   NaN          NaN           NaN          NaN     1098.18   \n",
       "19793     Approved   NaN          NaN           NaN          NaN      868.56   \n",
       "19859     Approved   NaN          NaN           NaN          NaN     1497.43   \n",
       "19871     Approved   NaN          NaN           NaN          NaN      867.92   \n",
       "\n",
       "       standard_cost  product_first_sold_date  \n",
       "136              NaN                      NaN  \n",
       "159              NaN                      NaN  \n",
       "366              NaN                      NaN  \n",
       "406              NaN                      NaN  \n",
       "676              NaN                      NaN  \n",
       "...              ...                      ...  \n",
       "19340            NaN                      NaN  \n",
       "19383            NaN                      NaN  \n",
       "19793            NaN                      NaN  \n",
       "19859            NaN                      NaN  \n",
       "19871            NaN                      NaN  \n",
       "\n",
       "[197 rows x 13 columns]"
      ]
     },
     "execution_count": 35,
     "metadata": {},
     "output_type": "execute_result"
    }
   ],
   "source": [
    "## checking the missing values in \"brand\" column\n",
    "cust_trans[cust_trans['brand'].isna()]"
   ]
  },
  {
   "cell_type": "code",
   "execution_count": 36,
   "id": "f59e8033",
   "metadata": {},
   "outputs": [
    {
     "data": {
      "text/plain": [
       "Index([  136,   159,   366,   406,   676,   780,  1003,  1130,  1196,  1282,\n",
       "       ...\n",
       "       19045, 19132, 19176, 19196, 19205, 19340, 19383, 19793, 19859, 19871],\n",
       "      dtype='int64', length=197)"
      ]
     },
     "execution_count": 36,
     "metadata": {},
     "output_type": "execute_result"
    }
   ],
   "source": [
    "## indexing all missing indices values in brand column so we can drop them in the next step\n",
    "cust_trans[cust_trans['brand'].isna()].index"
   ]
  },
  {
   "cell_type": "code",
   "execution_count": 37,
   "id": "fe7af608",
   "metadata": {},
   "outputs": [],
   "source": [
    "## dropping all missing values in brand column since brand is a crucial information for our analysis\n",
    "cust_trans.drop(cust_trans[cust_trans['brand'].isna()].index, inplace=True)"
   ]
  },
  {
   "cell_type": "code",
   "execution_count": 38,
   "id": "2c6f28ae",
   "metadata": {},
   "outputs": [
    {
     "data": {
      "text/plain": [
       "transaction_id             0\n",
       "product_id                 0\n",
       "customer_id                0\n",
       "transaction_date           0\n",
       "online_order               0\n",
       "order_status               0\n",
       "brand                      0\n",
       "product_line               0\n",
       "product_class              0\n",
       "product_size               0\n",
       "list_price                 0\n",
       "standard_cost              0\n",
       "product_first_sold_date    0\n",
       "dtype: int64"
      ]
     },
     "execution_count": 38,
     "metadata": {},
     "output_type": "execute_result"
    }
   ],
   "source": [
    "## checking for any missing values in the dataframe after cleaning\n",
    "cust_trans.isna().sum()"
   ]
  },
  {
   "cell_type": "code",
   "execution_count": 39,
   "id": "8ed4ff85",
   "metadata": {},
   "outputs": [],
   "source": [
    "## converting \"product_first_sold_date\" columns to datetime format so we can use them in mathimatical operations\n",
    "cust_trans['product_first_sold_date'] = pd.to_datetime(cust_trans['product_first_sold_date'])"
   ]
  },
  {
   "cell_type": "code",
   "execution_count": 40,
   "id": "679a1f79",
   "metadata": {},
   "outputs": [],
   "source": [
    "## creating a new column \"profit\" by subtracting standard_cost from list_price\n",
    "cust_trans['profit'] = cust_trans['list_price'] - cust_trans['standard_cost']"
   ]
  },
  {
   "cell_type": "code",
   "execution_count": 41,
   "id": "64f87e3b",
   "metadata": {},
   "outputs": [
    {
     "name": "stdout",
     "output_type": "stream",
     "text": [
      "<class 'pandas.core.frame.DataFrame'>\n",
      "Index: 19803 entries, 0 to 19999\n",
      "Data columns (total 14 columns):\n",
      " #   Column                   Non-Null Count  Dtype         \n",
      "---  ------                   --------------  -----         \n",
      " 0   transaction_id           19803 non-null  int64         \n",
      " 1   product_id               19803 non-null  int64         \n",
      " 2   customer_id              19803 non-null  int64         \n",
      " 3   transaction_date         19803 non-null  datetime64[ns]\n",
      " 4   online_order             19803 non-null  float64       \n",
      " 5   order_status             19803 non-null  object        \n",
      " 6   brand                    19803 non-null  object        \n",
      " 7   product_line             19803 non-null  object        \n",
      " 8   product_class            19803 non-null  object        \n",
      " 9   product_size             19803 non-null  object        \n",
      " 10  list_price               19803 non-null  float64       \n",
      " 11  standard_cost            19803 non-null  float64       \n",
      " 12  product_first_sold_date  19803 non-null  datetime64[ns]\n",
      " 13  profit                   19803 non-null  float64       \n",
      "dtypes: datetime64[ns](2), float64(4), int64(3), object(5)\n",
      "memory usage: 2.3+ MB\n"
     ]
    },
    {
     "data": {
      "text/plain": [
       "transaction_id             0\n",
       "product_id                 0\n",
       "customer_id                0\n",
       "transaction_date           0\n",
       "online_order               0\n",
       "order_status               0\n",
       "brand                      0\n",
       "product_line               0\n",
       "product_class              0\n",
       "product_size               0\n",
       "list_price                 0\n",
       "standard_cost              0\n",
       "product_first_sold_date    0\n",
       "profit                     0\n",
       "dtype: int64"
      ]
     },
     "execution_count": 41,
     "metadata": {},
     "output_type": "execute_result"
    }
   ],
   "source": [
    "## Display dataframe info and check for any missing values\n",
    "cust_trans.info()\n",
    "cust_trans.isnull().sum()"
   ]
  },
  {
   "cell_type": "code",
   "execution_count": 42,
   "id": "eaf3d4a0",
   "metadata": {},
   "outputs": [],
   "source": [
    "## Exporting the cleaned transaction sheet into a separated and new csv file\n",
    "cust_trans.to_csv(\"/run/media/yassien/Data/Data since/Epsilon AI/DSP/final_project/Raw_data_transaction_cleaned.csv\", index=False)"
   ]
  },
  {
   "cell_type": "markdown",
   "id": "dc0972d2",
   "metadata": {},
   "source": [
    "## Business Objective question: Can we predict which customers are likely to churn (stop purchasing)?\n",
    "### By predicting churn, the company can identify customers that likely to leave the company and then take a proactive actions (e.g., targeted marketing, offers) to retain them"
   ]
  },
  {
   "cell_type": "markdown",
   "id": "1b2696f7",
   "metadata": {},
   "source": [
    "### Define the customers that are likely to stop purchasing (churned customers)\n",
    "### We can define churned customers as those who have not made any purchases in the last 3 months from the most recent transaction date in the dataset."
   ]
  },
  {
   "cell_type": "code",
   "execution_count": 43,
   "id": "cee78987",
   "metadata": {},
   "outputs": [
    {
     "data": {
      "text/html": [
       "<div>\n",
       "<style scoped>\n",
       "    .dataframe tbody tr th:only-of-type {\n",
       "        vertical-align: middle;\n",
       "    }\n",
       "\n",
       "    .dataframe tbody tr th {\n",
       "        vertical-align: top;\n",
       "    }\n",
       "\n",
       "    .dataframe thead th {\n",
       "        text-align: right;\n",
       "    }\n",
       "</style>\n",
       "<table border=\"1\" class=\"dataframe\">\n",
       "  <thead>\n",
       "    <tr style=\"text-align: right;\">\n",
       "      <th></th>\n",
       "      <th>customer_id</th>\n",
       "      <th>first_name</th>\n",
       "      <th>last_name</th>\n",
       "      <th>gender</th>\n",
       "      <th>past_3_years_bike_related_purchases</th>\n",
       "      <th>dob</th>\n",
       "      <th>job_title</th>\n",
       "      <th>job_industry_category</th>\n",
       "      <th>wealth_segment</th>\n",
       "      <th>deceased_indicator</th>\n",
       "      <th>...</th>\n",
       "      <th>online_order</th>\n",
       "      <th>order_status</th>\n",
       "      <th>brand</th>\n",
       "      <th>product_line</th>\n",
       "      <th>product_class</th>\n",
       "      <th>product_size</th>\n",
       "      <th>list_price</th>\n",
       "      <th>standard_cost</th>\n",
       "      <th>product_first_sold_date</th>\n",
       "      <th>profit</th>\n",
       "    </tr>\n",
       "  </thead>\n",
       "  <tbody>\n",
       "    <tr>\n",
       "      <th>0</th>\n",
       "      <td>1</td>\n",
       "      <td>Laraine</td>\n",
       "      <td>Medendorp</td>\n",
       "      <td>Female</td>\n",
       "      <td>93</td>\n",
       "      <td>1953-10-12</td>\n",
       "      <td>Executive Secretary</td>\n",
       "      <td>Health</td>\n",
       "      <td>Mass Customer</td>\n",
       "      <td>N</td>\n",
       "      <td>...</td>\n",
       "      <td>0.0</td>\n",
       "      <td>Approved</td>\n",
       "      <td>OHM Cycles</td>\n",
       "      <td>Standard</td>\n",
       "      <td>medium</td>\n",
       "      <td>medium</td>\n",
       "      <td>235.63</td>\n",
       "      <td>125.07</td>\n",
       "      <td>1970-01-01 00:00:00.000038482</td>\n",
       "      <td>110.56</td>\n",
       "    </tr>\n",
       "    <tr>\n",
       "      <th>1</th>\n",
       "      <td>1</td>\n",
       "      <td>Laraine</td>\n",
       "      <td>Medendorp</td>\n",
       "      <td>Female</td>\n",
       "      <td>93</td>\n",
       "      <td>1953-10-12</td>\n",
       "      <td>Executive Secretary</td>\n",
       "      <td>Health</td>\n",
       "      <td>Mass Customer</td>\n",
       "      <td>N</td>\n",
       "      <td>...</td>\n",
       "      <td>1.0</td>\n",
       "      <td>Approved</td>\n",
       "      <td>Solex</td>\n",
       "      <td>Standard</td>\n",
       "      <td>medium</td>\n",
       "      <td>medium</td>\n",
       "      <td>1577.53</td>\n",
       "      <td>826.51</td>\n",
       "      <td>1970-01-01 00:00:00.000039526</td>\n",
       "      <td>751.02</td>\n",
       "    </tr>\n",
       "    <tr>\n",
       "      <th>2</th>\n",
       "      <td>1</td>\n",
       "      <td>Laraine</td>\n",
       "      <td>Medendorp</td>\n",
       "      <td>Female</td>\n",
       "      <td>93</td>\n",
       "      <td>1953-10-12</td>\n",
       "      <td>Executive Secretary</td>\n",
       "      <td>Health</td>\n",
       "      <td>Mass Customer</td>\n",
       "      <td>N</td>\n",
       "      <td>...</td>\n",
       "      <td>1.0</td>\n",
       "      <td>Approved</td>\n",
       "      <td>Trek Bicycles</td>\n",
       "      <td>Road</td>\n",
       "      <td>low</td>\n",
       "      <td>small</td>\n",
       "      <td>1720.70</td>\n",
       "      <td>1531.42</td>\n",
       "      <td>1970-01-01 00:00:00.000037823</td>\n",
       "      <td>189.28</td>\n",
       "    </tr>\n",
       "    <tr>\n",
       "      <th>3</th>\n",
       "      <td>1</td>\n",
       "      <td>Laraine</td>\n",
       "      <td>Medendorp</td>\n",
       "      <td>Female</td>\n",
       "      <td>93</td>\n",
       "      <td>1953-10-12</td>\n",
       "      <td>Executive Secretary</td>\n",
       "      <td>Health</td>\n",
       "      <td>Mass Customer</td>\n",
       "      <td>N</td>\n",
       "      <td>...</td>\n",
       "      <td>0.0</td>\n",
       "      <td>Approved</td>\n",
       "      <td>Norco Bicycles</td>\n",
       "      <td>Standard</td>\n",
       "      <td>medium</td>\n",
       "      <td>medium</td>\n",
       "      <td>360.40</td>\n",
       "      <td>270.30</td>\n",
       "      <td>1970-01-01 00:00:00.000037873</td>\n",
       "      <td>90.10</td>\n",
       "    </tr>\n",
       "    <tr>\n",
       "      <th>4</th>\n",
       "      <td>1</td>\n",
       "      <td>Laraine</td>\n",
       "      <td>Medendorp</td>\n",
       "      <td>Female</td>\n",
       "      <td>93</td>\n",
       "      <td>1953-10-12</td>\n",
       "      <td>Executive Secretary</td>\n",
       "      <td>Health</td>\n",
       "      <td>Mass Customer</td>\n",
       "      <td>N</td>\n",
       "      <td>...</td>\n",
       "      <td>0.0</td>\n",
       "      <td>Approved</td>\n",
       "      <td>Solex</td>\n",
       "      <td>Standard</td>\n",
       "      <td>medium</td>\n",
       "      <td>medium</td>\n",
       "      <td>71.49</td>\n",
       "      <td>53.62</td>\n",
       "      <td>1970-01-01 00:00:00.000038573</td>\n",
       "      <td>17.87</td>\n",
       "    </tr>\n",
       "    <tr>\n",
       "      <th>...</th>\n",
       "      <td>...</td>\n",
       "      <td>...</td>\n",
       "      <td>...</td>\n",
       "      <td>...</td>\n",
       "      <td>...</td>\n",
       "      <td>...</td>\n",
       "      <td>...</td>\n",
       "      <td>...</td>\n",
       "      <td>...</td>\n",
       "      <td>...</td>\n",
       "      <td>...</td>\n",
       "      <td>...</td>\n",
       "      <td>...</td>\n",
       "      <td>...</td>\n",
       "      <td>...</td>\n",
       "      <td>...</td>\n",
       "      <td>...</td>\n",
       "      <td>...</td>\n",
       "      <td>...</td>\n",
       "      <td>...</td>\n",
       "      <td>...</td>\n",
       "    </tr>\n",
       "    <tr>\n",
       "      <th>19349</th>\n",
       "      <td>3500</td>\n",
       "      <td>Josy</td>\n",
       "      <td>Fleeman</td>\n",
       "      <td>Female</td>\n",
       "      <td>71</td>\n",
       "      <td>1967-07-21</td>\n",
       "      <td>missing</td>\n",
       "      <td>Entertainment</td>\n",
       "      <td>Affluent Customer</td>\n",
       "      <td>N</td>\n",
       "      <td>...</td>\n",
       "      <td>1.0</td>\n",
       "      <td>Approved</td>\n",
       "      <td>Giant Bicycles</td>\n",
       "      <td>Road</td>\n",
       "      <td>medium</td>\n",
       "      <td>medium</td>\n",
       "      <td>792.90</td>\n",
       "      <td>594.68</td>\n",
       "      <td>1970-01-01 00:00:00.000033879</td>\n",
       "      <td>198.22</td>\n",
       "    </tr>\n",
       "    <tr>\n",
       "      <th>19350</th>\n",
       "      <td>3500</td>\n",
       "      <td>Josy</td>\n",
       "      <td>Fleeman</td>\n",
       "      <td>Female</td>\n",
       "      <td>71</td>\n",
       "      <td>1967-07-21</td>\n",
       "      <td>missing</td>\n",
       "      <td>Entertainment</td>\n",
       "      <td>Affluent Customer</td>\n",
       "      <td>N</td>\n",
       "      <td>...</td>\n",
       "      <td>0.0</td>\n",
       "      <td>Approved</td>\n",
       "      <td>WeareA2B</td>\n",
       "      <td>Standard</td>\n",
       "      <td>medium</td>\n",
       "      <td>medium</td>\n",
       "      <td>1228.07</td>\n",
       "      <td>400.91</td>\n",
       "      <td>1970-01-01 00:00:00.000036668</td>\n",
       "      <td>827.16</td>\n",
       "    </tr>\n",
       "    <tr>\n",
       "      <th>19351</th>\n",
       "      <td>3500</td>\n",
       "      <td>Josy</td>\n",
       "      <td>Fleeman</td>\n",
       "      <td>Female</td>\n",
       "      <td>71</td>\n",
       "      <td>1967-07-21</td>\n",
       "      <td>missing</td>\n",
       "      <td>Entertainment</td>\n",
       "      <td>Affluent Customer</td>\n",
       "      <td>N</td>\n",
       "      <td>...</td>\n",
       "      <td>0.0</td>\n",
       "      <td>Approved</td>\n",
       "      <td>Giant Bicycles</td>\n",
       "      <td>Standard</td>\n",
       "      <td>medium</td>\n",
       "      <td>small</td>\n",
       "      <td>1311.44</td>\n",
       "      <td>1167.18</td>\n",
       "      <td>1970-01-01 00:00:00.000033888</td>\n",
       "      <td>144.26</td>\n",
       "    </tr>\n",
       "    <tr>\n",
       "      <th>19352</th>\n",
       "      <td>3500</td>\n",
       "      <td>Josy</td>\n",
       "      <td>Fleeman</td>\n",
       "      <td>Female</td>\n",
       "      <td>71</td>\n",
       "      <td>1967-07-21</td>\n",
       "      <td>missing</td>\n",
       "      <td>Entertainment</td>\n",
       "      <td>Affluent Customer</td>\n",
       "      <td>N</td>\n",
       "      <td>...</td>\n",
       "      <td>0.0</td>\n",
       "      <td>Approved</td>\n",
       "      <td>WeareA2B</td>\n",
       "      <td>Standard</td>\n",
       "      <td>medium</td>\n",
       "      <td>medium</td>\n",
       "      <td>60.34</td>\n",
       "      <td>45.26</td>\n",
       "      <td>1970-01-01 00:00:00.000034165</td>\n",
       "      <td>15.08</td>\n",
       "    </tr>\n",
       "    <tr>\n",
       "      <th>19353</th>\n",
       "      <td>3500</td>\n",
       "      <td>Josy</td>\n",
       "      <td>Fleeman</td>\n",
       "      <td>Female</td>\n",
       "      <td>71</td>\n",
       "      <td>1967-07-21</td>\n",
       "      <td>missing</td>\n",
       "      <td>Entertainment</td>\n",
       "      <td>Affluent Customer</td>\n",
       "      <td>N</td>\n",
       "      <td>...</td>\n",
       "      <td>1.0</td>\n",
       "      <td>Approved</td>\n",
       "      <td>OHM Cycles</td>\n",
       "      <td>Standard</td>\n",
       "      <td>high</td>\n",
       "      <td>medium</td>\n",
       "      <td>1458.17</td>\n",
       "      <td>874.90</td>\n",
       "      <td>1970-01-01 00:00:00.000038750</td>\n",
       "      <td>583.27</td>\n",
       "    </tr>\n",
       "  </tbody>\n",
       "</table>\n",
       "<p>19354 rows × 26 columns</p>\n",
       "</div>"
      ],
      "text/plain": [
       "       customer_id first_name  last_name  gender  \\\n",
       "0                1    Laraine  Medendorp  Female   \n",
       "1                1    Laraine  Medendorp  Female   \n",
       "2                1    Laraine  Medendorp  Female   \n",
       "3                1    Laraine  Medendorp  Female   \n",
       "4                1    Laraine  Medendorp  Female   \n",
       "...            ...        ...        ...     ...   \n",
       "19349         3500       Josy    Fleeman  Female   \n",
       "19350         3500       Josy    Fleeman  Female   \n",
       "19351         3500       Josy    Fleeman  Female   \n",
       "19352         3500       Josy    Fleeman  Female   \n",
       "19353         3500       Josy    Fleeman  Female   \n",
       "\n",
       "       past_3_years_bike_related_purchases        dob            job_title  \\\n",
       "0                                       93 1953-10-12  Executive Secretary   \n",
       "1                                       93 1953-10-12  Executive Secretary   \n",
       "2                                       93 1953-10-12  Executive Secretary   \n",
       "3                                       93 1953-10-12  Executive Secretary   \n",
       "4                                       93 1953-10-12  Executive Secretary   \n",
       "...                                    ...        ...                  ...   \n",
       "19349                                   71 1967-07-21              missing   \n",
       "19350                                   71 1967-07-21              missing   \n",
       "19351                                   71 1967-07-21              missing   \n",
       "19352                                   71 1967-07-21              missing   \n",
       "19353                                   71 1967-07-21              missing   \n",
       "\n",
       "      job_industry_category     wealth_segment deceased_indicator  ...  \\\n",
       "0                    Health      Mass Customer                  N  ...   \n",
       "1                    Health      Mass Customer                  N  ...   \n",
       "2                    Health      Mass Customer                  N  ...   \n",
       "3                    Health      Mass Customer                  N  ...   \n",
       "4                    Health      Mass Customer                  N  ...   \n",
       "...                     ...                ...                ...  ...   \n",
       "19349         Entertainment  Affluent Customer                  N  ...   \n",
       "19350         Entertainment  Affluent Customer                  N  ...   \n",
       "19351         Entertainment  Affluent Customer                  N  ...   \n",
       "19352         Entertainment  Affluent Customer                  N  ...   \n",
       "19353         Entertainment  Affluent Customer                  N  ...   \n",
       "\n",
       "      online_order  order_status           brand  product_line  product_class  \\\n",
       "0              0.0      Approved      OHM Cycles      Standard         medium   \n",
       "1              1.0      Approved           Solex      Standard         medium   \n",
       "2              1.0      Approved   Trek Bicycles          Road            low   \n",
       "3              0.0      Approved  Norco Bicycles      Standard         medium   \n",
       "4              0.0      Approved           Solex      Standard         medium   \n",
       "...            ...           ...             ...           ...            ...   \n",
       "19349          1.0      Approved  Giant Bicycles          Road         medium   \n",
       "19350          0.0      Approved        WeareA2B      Standard         medium   \n",
       "19351          0.0      Approved  Giant Bicycles      Standard         medium   \n",
       "19352          0.0      Approved        WeareA2B      Standard         medium   \n",
       "19353          1.0      Approved      OHM Cycles      Standard           high   \n",
       "\n",
       "      product_size  list_price standard_cost       product_first_sold_date  \\\n",
       "0           medium      235.63        125.07 1970-01-01 00:00:00.000038482   \n",
       "1           medium     1577.53        826.51 1970-01-01 00:00:00.000039526   \n",
       "2            small     1720.70       1531.42 1970-01-01 00:00:00.000037823   \n",
       "3           medium      360.40        270.30 1970-01-01 00:00:00.000037873   \n",
       "4           medium       71.49         53.62 1970-01-01 00:00:00.000038573   \n",
       "...            ...         ...           ...                           ...   \n",
       "19349       medium      792.90        594.68 1970-01-01 00:00:00.000033879   \n",
       "19350       medium     1228.07        400.91 1970-01-01 00:00:00.000036668   \n",
       "19351        small     1311.44       1167.18 1970-01-01 00:00:00.000033888   \n",
       "19352       medium       60.34         45.26 1970-01-01 00:00:00.000034165   \n",
       "19353       medium     1458.17        874.90 1970-01-01 00:00:00.000038750   \n",
       "\n",
       "       profit  \n",
       "0      110.56  \n",
       "1      751.02  \n",
       "2      189.28  \n",
       "3       90.10  \n",
       "4       17.87  \n",
       "...       ...  \n",
       "19349  198.22  \n",
       "19350  827.16  \n",
       "19351  144.26  \n",
       "19352   15.08  \n",
       "19353  583.27  \n",
       "\n",
       "[19354 rows x 26 columns]"
      ]
     },
     "execution_count": 43,
     "metadata": {},
     "output_type": "execute_result"
    }
   ],
   "source": [
    "## merging the two cleaned dataframes into one dataframe using inner join to keep only the customers who have transactions\n",
    "\n",
    "df = pd.merge(cus_data, cust_trans, on='customer_id', how='inner')\n",
    "df.to_csv(\"/run/media/yassien/Data/Data since/Epsilon AI/DSP/final_project/merged_cleaned_data.csv\", index=False)\n",
    "df"
   ]
  },
  {
   "cell_type": "markdown",
   "id": "9c328342",
   "metadata": {},
   "source": [
    "## B- creating churn prediction labeling"
   ]
  },
  {
   "cell_type": "code",
   "execution_count": 44,
   "id": "a4421a02",
   "metadata": {},
   "outputs": [
    {
     "data": {
      "text/html": [
       "<div>\n",
       "<style scoped>\n",
       "    .dataframe tbody tr th:only-of-type {\n",
       "        vertical-align: middle;\n",
       "    }\n",
       "\n",
       "    .dataframe tbody tr th {\n",
       "        vertical-align: top;\n",
       "    }\n",
       "\n",
       "    .dataframe thead th {\n",
       "        text-align: right;\n",
       "    }\n",
       "</style>\n",
       "<table border=\"1\" class=\"dataframe\">\n",
       "  <thead>\n",
       "    <tr style=\"text-align: right;\">\n",
       "      <th></th>\n",
       "      <th>customer_id</th>\n",
       "      <th>first_name</th>\n",
       "      <th>last_name</th>\n",
       "      <th>gender</th>\n",
       "      <th>past_3_years_bike_related_purchases</th>\n",
       "      <th>dob</th>\n",
       "      <th>job_title</th>\n",
       "      <th>job_industry_category</th>\n",
       "      <th>wealth_segment</th>\n",
       "      <th>deceased_indicator</th>\n",
       "      <th>...</th>\n",
       "      <th>order_status</th>\n",
       "      <th>brand</th>\n",
       "      <th>product_line</th>\n",
       "      <th>product_class</th>\n",
       "      <th>product_size</th>\n",
       "      <th>list_price</th>\n",
       "      <th>standard_cost</th>\n",
       "      <th>product_first_sold_date</th>\n",
       "      <th>profit</th>\n",
       "      <th>churn</th>\n",
       "    </tr>\n",
       "  </thead>\n",
       "  <tbody>\n",
       "    <tr>\n",
       "      <th>0</th>\n",
       "      <td>1</td>\n",
       "      <td>Laraine</td>\n",
       "      <td>Medendorp</td>\n",
       "      <td>Female</td>\n",
       "      <td>93</td>\n",
       "      <td>1953-10-12</td>\n",
       "      <td>Executive Secretary</td>\n",
       "      <td>Health</td>\n",
       "      <td>Mass Customer</td>\n",
       "      <td>N</td>\n",
       "      <td>...</td>\n",
       "      <td>Approved</td>\n",
       "      <td>OHM Cycles</td>\n",
       "      <td>Standard</td>\n",
       "      <td>medium</td>\n",
       "      <td>medium</td>\n",
       "      <td>235.63</td>\n",
       "      <td>125.07</td>\n",
       "      <td>1970-01-01 00:00:00.000038482</td>\n",
       "      <td>110.56</td>\n",
       "      <td>0</td>\n",
       "    </tr>\n",
       "    <tr>\n",
       "      <th>1</th>\n",
       "      <td>1</td>\n",
       "      <td>Laraine</td>\n",
       "      <td>Medendorp</td>\n",
       "      <td>Female</td>\n",
       "      <td>93</td>\n",
       "      <td>1953-10-12</td>\n",
       "      <td>Executive Secretary</td>\n",
       "      <td>Health</td>\n",
       "      <td>Mass Customer</td>\n",
       "      <td>N</td>\n",
       "      <td>...</td>\n",
       "      <td>Approved</td>\n",
       "      <td>Solex</td>\n",
       "      <td>Standard</td>\n",
       "      <td>medium</td>\n",
       "      <td>medium</td>\n",
       "      <td>1577.53</td>\n",
       "      <td>826.51</td>\n",
       "      <td>1970-01-01 00:00:00.000039526</td>\n",
       "      <td>751.02</td>\n",
       "      <td>0</td>\n",
       "    </tr>\n",
       "    <tr>\n",
       "      <th>2</th>\n",
       "      <td>1</td>\n",
       "      <td>Laraine</td>\n",
       "      <td>Medendorp</td>\n",
       "      <td>Female</td>\n",
       "      <td>93</td>\n",
       "      <td>1953-10-12</td>\n",
       "      <td>Executive Secretary</td>\n",
       "      <td>Health</td>\n",
       "      <td>Mass Customer</td>\n",
       "      <td>N</td>\n",
       "      <td>...</td>\n",
       "      <td>Approved</td>\n",
       "      <td>Trek Bicycles</td>\n",
       "      <td>Road</td>\n",
       "      <td>low</td>\n",
       "      <td>small</td>\n",
       "      <td>1720.70</td>\n",
       "      <td>1531.42</td>\n",
       "      <td>1970-01-01 00:00:00.000037823</td>\n",
       "      <td>189.28</td>\n",
       "      <td>0</td>\n",
       "    </tr>\n",
       "    <tr>\n",
       "      <th>3</th>\n",
       "      <td>1</td>\n",
       "      <td>Laraine</td>\n",
       "      <td>Medendorp</td>\n",
       "      <td>Female</td>\n",
       "      <td>93</td>\n",
       "      <td>1953-10-12</td>\n",
       "      <td>Executive Secretary</td>\n",
       "      <td>Health</td>\n",
       "      <td>Mass Customer</td>\n",
       "      <td>N</td>\n",
       "      <td>...</td>\n",
       "      <td>Approved</td>\n",
       "      <td>Norco Bicycles</td>\n",
       "      <td>Standard</td>\n",
       "      <td>medium</td>\n",
       "      <td>medium</td>\n",
       "      <td>360.40</td>\n",
       "      <td>270.30</td>\n",
       "      <td>1970-01-01 00:00:00.000037873</td>\n",
       "      <td>90.10</td>\n",
       "      <td>0</td>\n",
       "    </tr>\n",
       "    <tr>\n",
       "      <th>4</th>\n",
       "      <td>1</td>\n",
       "      <td>Laraine</td>\n",
       "      <td>Medendorp</td>\n",
       "      <td>Female</td>\n",
       "      <td>93</td>\n",
       "      <td>1953-10-12</td>\n",
       "      <td>Executive Secretary</td>\n",
       "      <td>Health</td>\n",
       "      <td>Mass Customer</td>\n",
       "      <td>N</td>\n",
       "      <td>...</td>\n",
       "      <td>Approved</td>\n",
       "      <td>Solex</td>\n",
       "      <td>Standard</td>\n",
       "      <td>medium</td>\n",
       "      <td>medium</td>\n",
       "      <td>71.49</td>\n",
       "      <td>53.62</td>\n",
       "      <td>1970-01-01 00:00:00.000038573</td>\n",
       "      <td>17.87</td>\n",
       "      <td>0</td>\n",
       "    </tr>\n",
       "    <tr>\n",
       "      <th>...</th>\n",
       "      <td>...</td>\n",
       "      <td>...</td>\n",
       "      <td>...</td>\n",
       "      <td>...</td>\n",
       "      <td>...</td>\n",
       "      <td>...</td>\n",
       "      <td>...</td>\n",
       "      <td>...</td>\n",
       "      <td>...</td>\n",
       "      <td>...</td>\n",
       "      <td>...</td>\n",
       "      <td>...</td>\n",
       "      <td>...</td>\n",
       "      <td>...</td>\n",
       "      <td>...</td>\n",
       "      <td>...</td>\n",
       "      <td>...</td>\n",
       "      <td>...</td>\n",
       "      <td>...</td>\n",
       "      <td>...</td>\n",
       "      <td>...</td>\n",
       "    </tr>\n",
       "    <tr>\n",
       "      <th>19349</th>\n",
       "      <td>3500</td>\n",
       "      <td>Josy</td>\n",
       "      <td>Fleeman</td>\n",
       "      <td>Female</td>\n",
       "      <td>71</td>\n",
       "      <td>1967-07-21</td>\n",
       "      <td>missing</td>\n",
       "      <td>Entertainment</td>\n",
       "      <td>Affluent Customer</td>\n",
       "      <td>N</td>\n",
       "      <td>...</td>\n",
       "      <td>Approved</td>\n",
       "      <td>Giant Bicycles</td>\n",
       "      <td>Road</td>\n",
       "      <td>medium</td>\n",
       "      <td>medium</td>\n",
       "      <td>792.90</td>\n",
       "      <td>594.68</td>\n",
       "      <td>1970-01-01 00:00:00.000033879</td>\n",
       "      <td>198.22</td>\n",
       "      <td>1</td>\n",
       "    </tr>\n",
       "    <tr>\n",
       "      <th>19350</th>\n",
       "      <td>3500</td>\n",
       "      <td>Josy</td>\n",
       "      <td>Fleeman</td>\n",
       "      <td>Female</td>\n",
       "      <td>71</td>\n",
       "      <td>1967-07-21</td>\n",
       "      <td>missing</td>\n",
       "      <td>Entertainment</td>\n",
       "      <td>Affluent Customer</td>\n",
       "      <td>N</td>\n",
       "      <td>...</td>\n",
       "      <td>Approved</td>\n",
       "      <td>WeareA2B</td>\n",
       "      <td>Standard</td>\n",
       "      <td>medium</td>\n",
       "      <td>medium</td>\n",
       "      <td>1228.07</td>\n",
       "      <td>400.91</td>\n",
       "      <td>1970-01-01 00:00:00.000036668</td>\n",
       "      <td>827.16</td>\n",
       "      <td>1</td>\n",
       "    </tr>\n",
       "    <tr>\n",
       "      <th>19351</th>\n",
       "      <td>3500</td>\n",
       "      <td>Josy</td>\n",
       "      <td>Fleeman</td>\n",
       "      <td>Female</td>\n",
       "      <td>71</td>\n",
       "      <td>1967-07-21</td>\n",
       "      <td>missing</td>\n",
       "      <td>Entertainment</td>\n",
       "      <td>Affluent Customer</td>\n",
       "      <td>N</td>\n",
       "      <td>...</td>\n",
       "      <td>Approved</td>\n",
       "      <td>Giant Bicycles</td>\n",
       "      <td>Standard</td>\n",
       "      <td>medium</td>\n",
       "      <td>small</td>\n",
       "      <td>1311.44</td>\n",
       "      <td>1167.18</td>\n",
       "      <td>1970-01-01 00:00:00.000033888</td>\n",
       "      <td>144.26</td>\n",
       "      <td>1</td>\n",
       "    </tr>\n",
       "    <tr>\n",
       "      <th>19352</th>\n",
       "      <td>3500</td>\n",
       "      <td>Josy</td>\n",
       "      <td>Fleeman</td>\n",
       "      <td>Female</td>\n",
       "      <td>71</td>\n",
       "      <td>1967-07-21</td>\n",
       "      <td>missing</td>\n",
       "      <td>Entertainment</td>\n",
       "      <td>Affluent Customer</td>\n",
       "      <td>N</td>\n",
       "      <td>...</td>\n",
       "      <td>Approved</td>\n",
       "      <td>WeareA2B</td>\n",
       "      <td>Standard</td>\n",
       "      <td>medium</td>\n",
       "      <td>medium</td>\n",
       "      <td>60.34</td>\n",
       "      <td>45.26</td>\n",
       "      <td>1970-01-01 00:00:00.000034165</td>\n",
       "      <td>15.08</td>\n",
       "      <td>1</td>\n",
       "    </tr>\n",
       "    <tr>\n",
       "      <th>19353</th>\n",
       "      <td>3500</td>\n",
       "      <td>Josy</td>\n",
       "      <td>Fleeman</td>\n",
       "      <td>Female</td>\n",
       "      <td>71</td>\n",
       "      <td>1967-07-21</td>\n",
       "      <td>missing</td>\n",
       "      <td>Entertainment</td>\n",
       "      <td>Affluent Customer</td>\n",
       "      <td>N</td>\n",
       "      <td>...</td>\n",
       "      <td>Approved</td>\n",
       "      <td>OHM Cycles</td>\n",
       "      <td>Standard</td>\n",
       "      <td>high</td>\n",
       "      <td>medium</td>\n",
       "      <td>1458.17</td>\n",
       "      <td>874.90</td>\n",
       "      <td>1970-01-01 00:00:00.000038750</td>\n",
       "      <td>583.27</td>\n",
       "      <td>1</td>\n",
       "    </tr>\n",
       "  </tbody>\n",
       "</table>\n",
       "<p>19354 rows × 27 columns</p>\n",
       "</div>"
      ],
      "text/plain": [
       "       customer_id first_name  last_name  gender  \\\n",
       "0                1    Laraine  Medendorp  Female   \n",
       "1                1    Laraine  Medendorp  Female   \n",
       "2                1    Laraine  Medendorp  Female   \n",
       "3                1    Laraine  Medendorp  Female   \n",
       "4                1    Laraine  Medendorp  Female   \n",
       "...            ...        ...        ...     ...   \n",
       "19349         3500       Josy    Fleeman  Female   \n",
       "19350         3500       Josy    Fleeman  Female   \n",
       "19351         3500       Josy    Fleeman  Female   \n",
       "19352         3500       Josy    Fleeman  Female   \n",
       "19353         3500       Josy    Fleeman  Female   \n",
       "\n",
       "       past_3_years_bike_related_purchases        dob            job_title  \\\n",
       "0                                       93 1953-10-12  Executive Secretary   \n",
       "1                                       93 1953-10-12  Executive Secretary   \n",
       "2                                       93 1953-10-12  Executive Secretary   \n",
       "3                                       93 1953-10-12  Executive Secretary   \n",
       "4                                       93 1953-10-12  Executive Secretary   \n",
       "...                                    ...        ...                  ...   \n",
       "19349                                   71 1967-07-21              missing   \n",
       "19350                                   71 1967-07-21              missing   \n",
       "19351                                   71 1967-07-21              missing   \n",
       "19352                                   71 1967-07-21              missing   \n",
       "19353                                   71 1967-07-21              missing   \n",
       "\n",
       "      job_industry_category     wealth_segment deceased_indicator  ...  \\\n",
       "0                    Health      Mass Customer                  N  ...   \n",
       "1                    Health      Mass Customer                  N  ...   \n",
       "2                    Health      Mass Customer                  N  ...   \n",
       "3                    Health      Mass Customer                  N  ...   \n",
       "4                    Health      Mass Customer                  N  ...   \n",
       "...                     ...                ...                ...  ...   \n",
       "19349         Entertainment  Affluent Customer                  N  ...   \n",
       "19350         Entertainment  Affluent Customer                  N  ...   \n",
       "19351         Entertainment  Affluent Customer                  N  ...   \n",
       "19352         Entertainment  Affluent Customer                  N  ...   \n",
       "19353         Entertainment  Affluent Customer                  N  ...   \n",
       "\n",
       "      order_status           brand  product_line  product_class  product_size  \\\n",
       "0         Approved      OHM Cycles      Standard         medium        medium   \n",
       "1         Approved           Solex      Standard         medium        medium   \n",
       "2         Approved   Trek Bicycles          Road            low         small   \n",
       "3         Approved  Norco Bicycles      Standard         medium        medium   \n",
       "4         Approved           Solex      Standard         medium        medium   \n",
       "...            ...             ...           ...            ...           ...   \n",
       "19349     Approved  Giant Bicycles          Road         medium        medium   \n",
       "19350     Approved        WeareA2B      Standard         medium        medium   \n",
       "19351     Approved  Giant Bicycles      Standard         medium         small   \n",
       "19352     Approved        WeareA2B      Standard         medium        medium   \n",
       "19353     Approved      OHM Cycles      Standard           high        medium   \n",
       "\n",
       "      list_price  standard_cost       product_first_sold_date  profit churn  \n",
       "0         235.63         125.07 1970-01-01 00:00:00.000038482  110.56     0  \n",
       "1        1577.53         826.51 1970-01-01 00:00:00.000039526  751.02     0  \n",
       "2        1720.70        1531.42 1970-01-01 00:00:00.000037823  189.28     0  \n",
       "3         360.40         270.30 1970-01-01 00:00:00.000037873   90.10     0  \n",
       "4          71.49          53.62 1970-01-01 00:00:00.000038573   17.87     0  \n",
       "...          ...            ...                           ...     ...   ...  \n",
       "19349     792.90         594.68 1970-01-01 00:00:00.000033879  198.22     1  \n",
       "19350    1228.07         400.91 1970-01-01 00:00:00.000036668  827.16     1  \n",
       "19351    1311.44        1167.18 1970-01-01 00:00:00.000033888  144.26     1  \n",
       "19352      60.34          45.26 1970-01-01 00:00:00.000034165   15.08     1  \n",
       "19353    1458.17         874.90 1970-01-01 00:00:00.000038750  583.27     1  \n",
       "\n",
       "[19354 rows x 27 columns]"
      ]
     },
     "execution_count": 44,
     "metadata": {},
     "output_type": "execute_result"
    }
   ],
   "source": [
    "## 1- defined a cutoff date and set it to 01-oct-2017 since my data ends at 31-dec-2017, so customers who didn't make any purchases during last 3 months (october, november, december) are considered churned customers.\n",
    "\n",
    "\n",
    "## 2- after that I created a new column \"churn\" and set it to 1 for churned customers who likely will leave and 0 for active customers, by checking if the most recent transaction date for each customer is before the cutoff date, then set it to  intger type so we can use it in classification models.\n",
    "\n",
    "cutoff_date = dt.datetime(2017,10,1)\n",
    "\n",
    "df['churn'] = (df.groupby('customer_id')['transaction_date'].transform(max) < cutoff_date ).astype(int)\n",
    "df"
   ]
  },
  {
   "cell_type": "markdown",
   "id": "dc30302e",
   "metadata": {},
   "source": [
    "## C- creating customer summary table and feature engineering"
   ]
  },
  {
   "cell_type": "code",
   "execution_count": 45,
   "id": "da74b197",
   "metadata": {},
   "outputs": [],
   "source": [
    "## creating a customer summary dataframe by grouping the main dataframe by customer_id and aggregating the required columns\n",
    "## calculating age by subtracting dob from current date then converting it to years\n",
    "\n",
    "df['age'] = (dt.datetime.now() - df['dob']).dt.days // 365\n",
    "\n",
    "cust_summary = df.groupby('customer_id').agg({\n",
    "    'transaction_id': 'nunique',\n",
    "    'list_price': 'sum',\n",
    "    'profit': 'sum',\n",
    "    'transaction_date': 'max',\n",
    "    'churn': 'max',\n",
    "    'age': 'first',\n",
    "    'gender' : 'first',\n",
    "    'job_industry_category' : 'first',\n",
    "    'wealth_segment' : 'first',\n",
    "    'owns_car' : 'first',\n",
    "}).reset_index()"
   ]
  },
  {
   "cell_type": "code",
   "execution_count": null,
   "id": "f9c577cb",
   "metadata": {},
   "outputs": [],
   "source": [
    "## rename the columns to more descriptive names\n",
    "cust_summary.rename(columns={\n",
    "    'transaction_id': 'frequency',\n",
    "    'list_price': 'total_spent',\n",
    "    'profit': 'total_profit',\n",
    "    'transaction_date': 'last_purchase'\n",
    "}, inplace=True)"
   ]
  },
  {
   "cell_type": "code",
   "execution_count": 47,
   "id": "3c819e48",
   "metadata": {},
   "outputs": [],
   "source": [
    "## adding a future columns like age, avg_spend_per_trans, profit_margin, recency, high_value_cust\n",
    "\n",
    "# Average spend per transaction\n",
    "cust_summary['avg_spend_per_trans'] = cust_summary['total_spent'] / cust_summary['frequency']\n",
    "\n",
    "\n",
    "# Profit margin\n",
    "cust_summary['profit_margin'] = cust_summary['total_profit'] / cust_summary['total_spent']\n",
    "\n",
    "\n",
    "# Recency (days since last purchase, using dataset end date 2017-12-31)\n",
    "ref_date = dt.datetime(2017,12,31)\n",
    "\n",
    "cust_summary['recency'] = (ref_date - cust_summary['last_purchase']).dt.days\n",
    "\n",
    "\n",
    "# High-value customers (top 25% spenders)\n",
    "threshold = cust_summary['total_spent'].quantile(0.75)\n",
    "\n",
    "cust_summary['high_value_cust'] = (cust_summary['total_spent'] > threshold).astype(int)"
   ]
  },
  {
   "cell_type": "markdown",
   "id": "f5aee109",
   "metadata": {},
   "source": [
    "## D- Exploratory Data Analysis (EDA)"
   ]
  },
  {
   "cell_type": "markdown",
   "id": "c64d2038",
   "metadata": {},
   "source": [
    "## 1- How many customers are churned vs active customers?"
   ]
  },
  {
   "cell_type": "code",
   "execution_count": 48,
   "id": "f5e219a9",
   "metadata": {},
   "outputs": [
    {
     "data": {
      "image/png": "[encoded data removed]",
      "text/plain": [
       "<Figure size 640x480 with 1 Axes>"
      ]
     },
     "metadata": {},
     "output_type": "display_data"
    }
   ],
   "source": [
    "cust_summary['churn'].value_counts().plot(kind='bar', color=['skyblue', 'salmon'])\n",
    "plt.title('Churned vs Active Customers')\n",
    "plt.xticks(ticks=[0, 1], labels=['Active', 'Churned'], rotation=0)\n",
    "plt.show()"
   ]
  },
  {
   "cell_type": "markdown",
   "id": "51b3a105",
   "metadata": {},
   "source": [
    "## 2- Do churned customers have fewer transactions?"
   ]
  },
  {
   "cell_type": "code",
   "execution_count": 49,
   "id": "23af73dc",
   "metadata": {},
   "outputs": [
    {
     "data": {
      "image/png": "[encoded data removed]",
      "text/plain": [
       "<Figure size 640x480 with 1 Axes>"
      ]
     },
     "metadata": {},
     "output_type": "display_data"
    }
   ],
   "source": [
    "sns.boxplot(x='churn', y='frequency', data=cust_summary)\n",
    "plt.title('Transaction Frequency by Churn Status')\n",
    "plt.xticks(ticks=[0, 1], labels=['Active', 'Churned'], rotation=0)\n",
    "plt.ylabel('Transaction Frequency')\n",
    "plt.show()"
   ]
  },
  {
   "cell_type": "markdown",
   "id": "bf7f75a5",
   "metadata": {},
   "source": [
    "## 3- Do churned customers spend less money?"
   ]
  },
  {
   "cell_type": "code",
   "execution_count": 50,
   "id": "cf88f161",
   "metadata": {},
   "outputs": [
    {
     "data": {
      "image/png": "[encoded data removed]",
      "text/plain": [
       "<Figure size 640x480 with 1 Axes>"
      ]
     },
     "metadata": {},
     "output_type": "display_data"
    }
   ],
   "source": [
    "sns.histplot(data=cust_summary, x='total_spent', hue='churn', element='step', stat='density', common_norm=False)\n",
    "plt.title('Total Spend distribution by Churn Status')\n",
    "plt.xlabel('Total Spent')\n",
    "plt.show()"
   ]
  },
  {
   "cell_type": "markdown",
   "id": "606e76c6",
   "metadata": {},
   "source": [
    "## 4- Are churned customers less recent?"
   ]
  },
  {
   "cell_type": "code",
   "execution_count": 51,
   "id": "08fbccf7",
   "metadata": {},
   "outputs": [
    {
     "data": {
      "image/png": "[encoded data removed]",
      "text/plain": [
       "<Figure size 640x480 with 1 Axes>"
      ]
     },
     "metadata": {},
     "output_type": "display_data"
    }
   ],
   "source": [
    "ref_date = dt.datetime(2017,12,31)\n",
    "cust_summary['recency'] = (ref_date - cust_summary['last_purchase']).dt.days\n",
    "\n",
    "sns.boxplot(x='churn', y='recency', data=cust_summary, palette=['skyblue', 'salmon'])\n",
    "plt.title('Recency by Churn Status')\n",
    "plt.xticks(ticks=[0, 1], labels=['Active', 'Churned'], rotation=0)\n",
    "plt.ylabel('Recency (days since last purchase)')\n",
    "plt.show()"
   ]
  },
  {
   "cell_type": "markdown",
   "id": "b72df1fc",
   "metadata": {},
   "source": [
    "## 5- Does age affect churn?"
   ]
  },
  {
   "cell_type": "code",
   "execution_count": 52,
   "id": "28970781",
   "metadata": {},
   "outputs": [
    {
     "data": {
      "image/png": "[encoded data removed]",
      "text/plain": [
       "<Figure size 640x480 with 1 Axes>"
      ]
     },
     "metadata": {},
     "output_type": "display_data"
    }
   ],
   "source": [
    "sns.histplot(data=cust_summary, x='age', hue='churn', kde= True)\n",
    "plt.title('Age Distribution by Churn Status')\n",
    "plt.xlabel('Age')\n",
    "plt.show()"
   ]
  },
  {
   "cell_type": "markdown",
   "id": "97f5f87c",
   "metadata": {},
   "source": [
    "## 6- Does churn differ by gender / wealth segment / industry?"
   ]
  },
  {
   "cell_type": "code",
   "execution_count": 53,
   "id": "76abc147",
   "metadata": {},
   "outputs": [
    {
     "data": {
      "image/png": "[encoded data removed]",
      "text/plain": [
       "<Figure size 640x480 with 1 Axes>"
      ]
     },
     "metadata": {},
     "output_type": "display_data"
    }
   ],
   "source": [
    "sns.countplot(x='wealth_segment', hue='churn', data=cust_summary, palette=['skyblue', 'salmon'])\n",
    "plt.title('Churn by Wealth Segment')\n",
    "plt.xlabel('Wealth Segment')\n",
    "plt.ylabel('Count')\n",
    "plt.show()"
   ]
  },
  {
   "cell_type": "markdown",
   "id": "f0065aa5",
   "metadata": {},
   "source": [
    "## 7- Which numeric features are correlated with churn?"
   ]
  },
  {
   "cell_type": "code",
   "execution_count": 54,
   "id": "2c31b7f2",
   "metadata": {},
   "outputs": [
    {
     "data": {
      "image/png": "[encoded data removed]",
      "text/plain": [
       "<Figure size 640x480 with 2 Axes>"
      ]
     },
     "metadata": {},
     "output_type": "display_data"
    }
   ],
   "source": [
    "numeric_cols = cust_summary.select_dtypes(include=[np.number])\n",
    "sns.heatmap(numeric_cols.corr(), annot=True, fmt=\".2f\", cmap='coolwarm')\n",
    "plt.title('Correlation Matrix', fontsize=16 , rotation=0)\n",
    "plt.show()"
   ]
  },
  {
   "cell_type": "markdown",
   "id": "bf284d34",
   "metadata": {},
   "source": [
    "## E- Training, test & splitting the data"
   ]
  },
  {
   "cell_type": "code",
   "execution_count": 55,
   "id": "0875a82b",
   "metadata": {},
   "outputs": [
    {
     "name": "stdout",
     "output_type": "stream",
     "text": [
      "(2732, 10) (684, 10) (2732,) (684,)\n"
     ]
    }
   ],
   "source": [
    "## 1- importing necessary libraries for modeling.\n",
    "## 2- splitting the data into features (X) and target / churn variable (y)\n",
    "\n",
    "from sklearn.model_selection import train_test_split\n",
    "\n",
    "\n",
    "cust_summary['avg_spent_per_txn'] = cust_summary['total_spent'] / cust_summary['frequency']\n",
    "\n",
    "cust_summary['profit_margin'] = cust_summary['total_profit'] / cust_summary['total_spent']\n",
    "\n",
    "\n",
    "\n",
    "features = ['frequency','total_spent','total_profit','avg_spent_per_txn','profit_margin','age','gender','wealth_segment','owns_car','job_industry_category']\n",
    "\n",
    "X = cust_summary[features].copy()\n",
    "y = cust_summary['churn'].copy()\n",
    "\n",
    "\n",
    "\n",
    "# Fill missing values for numeric columns with their median\n",
    "numeric_features = ['frequency','total_spent','total_profit','avg_spent_per_txn','profit_margin','age']\n",
    "X[numeric_features] = X[numeric_features].fillna(X[numeric_features].median())\n",
    "\n",
    "# Fill missing values for categorical columns with 'missing'\n",
    "cat_features = ['gender','wealth_segment','owns_car','job_industry_category']\n",
    "X[cat_features] = X[cat_features].fillna('missing')\n",
    "\n",
    "\n",
    "X_train, X_test, y_train, y_test = train_test_split(X, y, test_size=0.2, stratify=y, random_state=42)\n",
    "\n",
    "cust_summary.to_csv(\"/run/media/yassien/Data/Data since/Epsilon AI/DSP/final_project/customer_summary.csv\", index=False)\n",
    "print(X_train.shape, X_test.shape, y_train.shape, y_test.shape)\n"
   ]
  },
  {
   "cell_type": "markdown",
   "id": "5ebf7868",
   "metadata": {},
   "source": [
    "## F- Preprocessing the data for modeling"
   ]
  },
  {
   "cell_type": "code",
   "execution_count": 56,
   "id": "dae43cb0",
   "metadata": {},
   "outputs": [],
   "source": [
    "## 1- Preprocessing the data for modeling\n",
    "## 2- creating a preprocessing pipeline for both numerical and categorical features\n",
    "from sklearn.preprocessing import StandardScaler, OneHotEncoder\n",
    "from sklearn.compose import ColumnTransformer\n",
    "from sklearn.pipeline import Pipeline\n",
    "from sklearn.linear_model import LogisticRegression"
   ]
  },
  {
   "cell_type": "code",
   "execution_count": 57,
   "id": "b3f1d716",
   "metadata": {},
   "outputs": [],
   "source": [
    "## defining numerical and categorical columns\n",
    "numeric_features = ['frequency','total_spent','total_profit','avg_spent_per_txn','profit_margin','age']\n",
    "categorical_features = ['gender','wealth_segment','owns_car','job_industry_category']"
   ]
  },
  {
   "cell_type": "code",
   "execution_count": 58,
   "id": "6da1b148",
   "metadata": {},
   "outputs": [],
   "source": [
    "## building the preprocessing pipelines for both numerical and categorical features\n",
    "preprocessor = ColumnTransformer(\n",
    "    transformers=[\n",
    "        ('num', StandardScaler(), numeric_features),\n",
    "        ('cat', OneHotEncoder(handle_unknown='ignore'), categorical_features)\n",
    "    ])"
   ]
  },
  {
   "cell_type": "markdown",
   "id": "df02734a",
   "metadata": {},
   "source": [
    "## F- testing the preprocessing pipeline and creating the model1 using logistic regression to test it"
   ]
  },
  {
   "cell_type": "code",
   "execution_count": 59,
   "id": "bfd6444b",
   "metadata": {},
   "outputs": [
    {
     "name": "stdout",
     "output_type": "stream",
     "text": [
      "              precision    recall  f1-score   support\n",
      "\n",
      "           0       0.79      0.97      0.87       526\n",
      "           1       0.60      0.15      0.24       158\n",
      "\n",
      "    accuracy                           0.78       684\n",
      "   macro avg       0.70      0.56      0.56       684\n",
      "weighted avg       0.75      0.78      0.73       684\n",
      "\n",
      "[[510  16]\n",
      " [134  24]]\n",
      "0.7230952495547962\n"
     ]
    }
   ],
   "source": [
    "## pipeline with preprocessing and logistic regression model\n",
    "model1 = Pipeline(steps=[\n",
    "    ('preprocessor', preprocessor),\n",
    "    ('classifier', LogisticRegression(max_iter=1000))\n",
    "])\n",
    "model1.fit(X_train, y_train)\n",
    "y_pred = model1.predict(X_test)\n",
    "\n",
    "## evaluating the model using classification report, confusion matrix and roc_auc_score\n",
    "from sklearn.metrics import classification_report, confusion_matrix, roc_auc_score\n",
    "\n",
    "\n",
    "print(classification_report(y_test, y_pred))\n",
    "print(confusion_matrix(y_test, y_pred))\n",
    "print(roc_auc_score(y_test, model1.predict_proba(X_test)[:, 1]))"
   ]
  },
  {
   "cell_type": "markdown",
   "id": "e5e9b2bd",
   "metadata": {},
   "source": [
    "## testing the preprocessing pipeline and creating the model2 using random forest Classifier to test it\n"
   ]
  },
  {
   "cell_type": "code",
   "execution_count": 60,
   "id": "d7569411",
   "metadata": {},
   "outputs": [
    {
     "name": "stdout",
     "output_type": "stream",
     "text": [
      "Classification Report (Random Forest):\n",
      "               precision    recall  f1-score   support\n",
      "\n",
      "           0       0.80      0.97      0.87       526\n",
      "           1       0.61      0.18      0.27       158\n",
      "\n",
      "    accuracy                           0.78       684\n",
      "   macro avg       0.70      0.57      0.57       684\n",
      "weighted avg       0.75      0.78      0.73       684\n",
      "\n",
      "\n",
      "Confusion Matrix:\n",
      " [[508  18]\n",
      " [130  28]]\n",
      "\n",
      "ROC AUC Score: 0.7071701881888628\n"
     ]
    }
   ],
   "source": [
    "from sklearn.ensemble import RandomForestClassifier\n",
    "from sklearn.pipeline import Pipeline\n",
    "from sklearn.compose import ColumnTransformer\n",
    "from sklearn.preprocessing import StandardScaler, OneHotEncoder\n",
    "from sklearn.metrics import classification_report, confusion_matrix, roc_auc_score\n",
    "\n",
    "# Define numeric & categorical features\n",
    "numeric_features = ['frequency','total_spent','total_profit','avg_spent_per_txn','profit_margin','age']\n",
    "categorical_features = ['gender','wealth_segment','owns_car','job_industry_category']\n",
    "\n",
    "# Numeric transformer\n",
    "numeric_transformer = Pipeline(steps=[\n",
    "    ('scaler', StandardScaler())\n",
    "])\n",
    "\n",
    "# Categorical transformer\n",
    "categorical_transformer = Pipeline(steps=[\n",
    "    ('onehot', OneHotEncoder(handle_unknown='ignore'))\n",
    "])\n",
    "\n",
    "# Preprocessor\n",
    "preprocessor = ColumnTransformer(\n",
    "    transformers=[\n",
    "        ('num', numeric_transformer, numeric_features),\n",
    "        ('cat', categorical_transformer, categorical_features)\n",
    "    ]\n",
    ")\n",
    "\n",
    "# Random Forest pipeline with tweaks\n",
    "model2 = Pipeline(steps=[\n",
    "    ('preprocessor', preprocessor),\n",
    "    ('classifier', RandomForestClassifier(\n",
    "        n_estimators=200,         # more trees\n",
    "        random_state=42,\n",
    "        class_weight='balanced'   # handle class imbalance\n",
    "    ))\n",
    "])\n",
    "\n",
    "# Train\n",
    "model2.fit(X_train, y_train)\n",
    "\n",
    "# Predict\n",
    "y_pred2 = model2.predict(X_test)\n",
    "\n",
    "# Evaluation\n",
    "print(\"Classification Report (Random Forest):\\n\", classification_report(y_test, y_pred2))\n",
    "print(\"\\nConfusion Matrix:\\n\", confusion_matrix(y_test, y_pred2))\n",
    "print(\"\\nROC AUC Score:\", roc_auc_score(y_test, model2.predict_proba(X_test)[:, 1]))\n"
   ]
  },
  {
   "cell_type": "markdown",
   "id": "95bca90d",
   "metadata": {},
   "source": [
    "## testing the preprocessing pipeline and creating the model3 using gradient boosting Classifier to test it"
   ]
  },
  {
   "cell_type": "code",
   "execution_count": 61,
   "id": "cf8e06c9",
   "metadata": {},
   "outputs": [
    {
     "name": "stdout",
     "output_type": "stream",
     "text": [
      "Classification Report (Gradient Boosting):\n",
      "               precision    recall  f1-score   support\n",
      "\n",
      "           0       0.80      0.95      0.87       526\n",
      "           1       0.54      0.21      0.30       158\n",
      "\n",
      "    accuracy                           0.78       684\n",
      "   macro avg       0.67      0.58      0.58       684\n",
      "weighted avg       0.74      0.78      0.74       684\n",
      "\n",
      "\n",
      "Confusion Matrix:\n",
      " [[498  28]\n",
      " [125  33]]\n",
      "\n",
      "ROC AUC Score: 0.7115560475525822\n"
     ]
    }
   ],
   "source": [
    "from sklearn.ensemble import GradientBoostingClassifier\n",
    "from sklearn.pipeline import Pipeline\n",
    "from sklearn.compose import ColumnTransformer\n",
    "from sklearn.preprocessing import StandardScaler, OneHotEncoder\n",
    "from sklearn.metrics import classification_report, confusion_matrix, roc_auc_score\n",
    "\n",
    "# Define numeric & categorical features\n",
    "numeric_features = ['frequency','total_spent','total_profit','avg_spent_per_txn','profit_margin','age']\n",
    "categorical_features = ['gender','wealth_segment','owns_car','job_industry_category']\n",
    "\n",
    "# Numeric transformer\n",
    "numeric_transformer = Pipeline(steps=[\n",
    "    ('scaler', StandardScaler())\n",
    "])\n",
    "\n",
    "# Categorical transformer\n",
    "categorical_transformer = Pipeline(steps=[\n",
    "    ('onehot', OneHotEncoder(handle_unknown='ignore'))\n",
    "])\n",
    "\n",
    "# Preprocessor\n",
    "preprocessor = ColumnTransformer(\n",
    "    transformers=[\n",
    "        ('num', numeric_transformer, numeric_features),\n",
    "        ('cat', categorical_transformer, categorical_features)\n",
    "    ]\n",
    ")\n",
    "\n",
    "# Gradient Boosting pipeline\n",
    "model3 = Pipeline(steps=[\n",
    "    ('preprocessor', preprocessor),\n",
    "    ('classifier', GradientBoostingClassifier(\n",
    "        n_estimators=200,\n",
    "        learning_rate=0.1,\n",
    "        max_depth=3,\n",
    "        random_state=42\n",
    "    ))\n",
    "])\n",
    "\n",
    "# Train\n",
    "model3.fit(X_train, y_train)\n",
    "\n",
    "# Predict\n",
    "y_pred3 = model3.predict(X_test)\n",
    "\n",
    "# Evaluation\n",
    "print(\"Classification Report (Gradient Boosting):\\n\", classification_report(y_test, y_pred3))\n",
    "print(\"\\nConfusion Matrix:\\n\", confusion_matrix(y_test, y_pred3))\n",
    "print(\"\\nROC AUC Score:\", roc_auc_score(y_test, model3.predict_proba(X_test)[:, 1]))"
   ]
  },
  {
   "cell_type": "markdown",
   "id": "72270c36",
   "metadata": {},
   "source": [
    "## comparing the models results into a table"
   ]
  },
  {
   "cell_type": "code",
   "execution_count": 62,
   "id": "3b443249",
   "metadata": {},
   "outputs": [
    {
     "name": "stdout",
     "output_type": "stream",
     "text": [
      "                 Model  Accuracy  Precision    Recall        F1   ROC AUC\n",
      "0  Logistic Regression  0.780702   0.600000  0.151899  0.242424  0.723095\n",
      "1        Random Forest  0.783626   0.608696  0.177215  0.274510  0.707170\n",
      "2    Gradient Boosting  0.776316   0.540984  0.208861  0.301370  0.711556\n"
     ]
    }
   ],
   "source": [
    "from sklearn.metrics import accuracy_score, precision_score, recall_score, f1_score, roc_auc_score\n",
    "\n",
    "# Collect metrics for each model\n",
    "results = []\n",
    "\n",
    "# Logistic Regression\n",
    "y_pred1 = model1.predict(X_test)\n",
    "results.append({\n",
    "    'Model': 'Logistic Regression',\n",
    "    'Accuracy': accuracy_score(y_test, y_pred1),\n",
    "    'Precision': precision_score(y_test, y_pred1),\n",
    "    'Recall': recall_score(y_test, y_pred1),\n",
    "    'F1': f1_score(y_test, y_pred1),\n",
    "    'ROC AUC': roc_auc_score(y_test, model1.predict_proba(X_test)[:,1])\n",
    "})\n",
    "\n",
    "# Random Forest\n",
    "y_pred2 = model2.predict(X_test)\n",
    "results.append({\n",
    "    'Model': 'Random Forest',\n",
    "    'Accuracy': accuracy_score(y_test, y_pred2),\n",
    "    'Precision': precision_score(y_test, y_pred2),\n",
    "    'Recall': recall_score(y_test, y_pred2),\n",
    "    'F1': f1_score(y_test, y_pred2),\n",
    "    'ROC AUC': roc_auc_score(y_test, model2.predict_proba(X_test)[:,1])\n",
    "})\n",
    "\n",
    "# Gradient Boosting\n",
    "y_pred3 = model3.predict(X_test)\n",
    "results.append({\n",
    "    'Model': 'Gradient Boosting',\n",
    "    'Accuracy': accuracy_score(y_test, y_pred3),\n",
    "    'Precision': precision_score(y_test, y_pred3),\n",
    "    'Recall': recall_score(y_test, y_pred3),\n",
    "    'F1': f1_score(y_test, y_pred3),\n",
    "    'ROC AUC': roc_auc_score(y_test, model3.predict_proba(X_test)[:,1])\n",
    "})\n",
    "\n",
    "# Convert to DataFrame\n",
    "results_df = pd.DataFrame(results)\n",
    "print(results_df)"
   ]
  },
  {
   "cell_type": "markdown",
   "id": "12a2e6dd",
   "metadata": {},
   "source": [
    "## visualizing the models results into a bar chart using matplotlib"
   ]
  },
  {
   "cell_type": "code",
   "execution_count": 63,
   "id": "962568fb",
   "metadata": {},
   "outputs": [
    {
     "data": {
      "image/png": "[encoded data removed]",
      "text/plain": [
       "<Figure size 1000x600 with 1 Axes>"
      ]
     },
     "metadata": {},
     "output_type": "display_data"
    }
   ],
   "source": [
    "\n",
    "# Plot Accuracy, Recall, F1, ROC AUC for each model\n",
    "metrics = ['Accuracy', 'Precision', 'Recall', 'F1', 'ROC AUC']\n",
    "\n",
    "results_df.set_index('Model')[metrics].plot(kind='bar', figsize=(10,6))\n",
    "\n",
    "plt.title(\"Model Comparison\")\n",
    "plt.ylabel(\"Score\")\n",
    "plt.ylim(0,1)  # since all metrics are between 0 and 1\n",
    "plt.xticks(rotation=0)\n",
    "plt.legend(loc='lower right')\n",
    "plt.show()\n"
   ]
  },
  {
   "cell_type": "code",
   "execution_count": 64,
   "id": "8a091f43",
   "metadata": {},
   "outputs": [
    {
     "name": "stdout",
     "output_type": "stream",
     "text": [
      "Fitting 3 folds for each of 27 candidates, totalling 81 fits\n"
     ]
    },
    {
     "name": "stdout",
     "output_type": "stream",
     "text": [
      "[CV] END classifier__learning_rate=0.01, classifier__max_depth=2, classifier__n_estimators=100; total time=   0.5s\n",
      "[CV] END classifier__learning_rate=0.01, classifier__max_depth=2, classifier__n_estimators=100; total time=   0.5s\n",
      "[CV] END classifier__learning_rate=0.01, classifier__max_depth=2, classifier__n_estimators=100; total time=   0.5s\n",
      "[CV] END classifier__learning_rate=0.01, classifier__max_depth=3, classifier__n_estimators=100; total time=   0.7s\n",
      "[CV] END classifier__learning_rate=0.01, classifier__max_depth=3, classifier__n_estimators=100; total time=   0.7s\n",
      "[CV] END classifier__learning_rate=0.01, classifier__max_depth=3, classifier__n_estimators=100; total time=   0.7s\n",
      "[CV] END classifier__learning_rate=0.01, classifier__max_depth=2, classifier__n_estimators=200; total time=   1.0s\n",
      "[CV] END classifier__learning_rate=0.01, classifier__max_depth=2, classifier__n_estimators=200; total time=   1.0s\n",
      "[CV] END classifier__learning_rate=0.01, classifier__max_depth=2, classifier__n_estimators=200; total time=   1.0s\n",
      "[CV] END classifier__learning_rate=0.01, classifier__max_depth=2, classifier__n_estimators=300; total time=   1.5s\n",
      "[CV] END classifier__learning_rate=0.01, classifier__max_depth=2, classifier__n_estimators=300; total time=   1.6s\n",
      "[CV] END classifier__learning_rate=0.01, classifier__max_depth=2, classifier__n_estimators=300; total time=   1.5s\n",
      "[CV] END classifier__learning_rate=0.01, classifier__max_depth=3, classifier__n_estimators=200; total time=   1.3s\n",
      "[CV] END classifier__learning_rate=0.01, classifier__max_depth=3, classifier__n_estimators=200; total time=   1.4s\n",
      "[CV] END classifier__learning_rate=0.01, classifier__max_depth=4, classifier__n_estimators=100; total time=   1.0s\n",
      "[CV] END classifier__learning_rate=0.01, classifier__max_depth=3, classifier__n_estimators=200; total time=   1.4s\n",
      "[CV] END classifier__learning_rate=0.01, classifier__max_depth=4, classifier__n_estimators=100; total time=   0.9s\n",
      "[CV] END classifier__learning_rate=0.01, classifier__max_depth=4, classifier__n_estimators=100; total time=   1.0s\n",
      "[CV] END classifier__learning_rate=0.1, classifier__max_depth=2, classifier__n_estimators=100; total time=   0.5s\n",
      "[CV] END classifier__learning_rate=0.1, classifier__max_depth=2, classifier__n_estimators=100; total time=   0.5s\n",
      "[CV] END classifier__learning_rate=0.1, classifier__max_depth=2, classifier__n_estimators=100; total time=   0.5s\n",
      "[CV] END classifier__learning_rate=0.01, classifier__max_depth=3, classifier__n_estimators=300; total time=   2.0s\n",
      "[CV] END classifier__learning_rate=0.01, classifier__max_depth=3, classifier__n_estimators=300; total time=   2.1s\n",
      "[CV] END classifier__learning_rate=0.01, classifier__max_depth=3, classifier__n_estimators=300; total time=   2.3s\n",
      "[CV] END classifier__learning_rate=0.01, classifier__max_depth=4, classifier__n_estimators=200; total time=   1.8s\n",
      "[CV] END classifier__learning_rate=0.1, classifier__max_depth=2, classifier__n_estimators=200; total time=   1.0s\n",
      "[CV] END classifier__learning_rate=0.01, classifier__max_depth=4, classifier__n_estimators=200; total time=   2.0s\n",
      "[CV] END classifier__learning_rate=0.01, classifier__max_depth=4, classifier__n_estimators=200; total time=   1.9s\n",
      "[CV] END classifier__learning_rate=0.1, classifier__max_depth=2, classifier__n_estimators=200; total time=   1.1s\n",
      "[CV] END classifier__learning_rate=0.1, classifier__max_depth=2, classifier__n_estimators=200; total time=   1.0s\n",
      "[CV] END classifier__learning_rate=0.1, classifier__max_depth=3, classifier__n_estimators=100; total time=   0.8s\n",
      "[CV] END classifier__learning_rate=0.1, classifier__max_depth=3, classifier__n_estimators=100; total time=   0.7s\n",
      "[CV] END classifier__learning_rate=0.1, classifier__max_depth=3, classifier__n_estimators=100; total time=   0.8s\n",
      "[CV] END classifier__learning_rate=0.1, classifier__max_depth=2, classifier__n_estimators=300; total time=   1.5s\n",
      "[CV] END classifier__learning_rate=0.1, classifier__max_depth=2, classifier__n_estimators=300; total time=   1.5s\n",
      "[CV] END classifier__learning_rate=0.01, classifier__max_depth=4, classifier__n_estimators=300; total time=   2.7s\n",
      "[CV] END classifier__learning_rate=0.1, classifier__max_depth=2, classifier__n_estimators=300; total time=   1.5s\n",
      "[CV] END classifier__learning_rate=0.01, classifier__max_depth=4, classifier__n_estimators=300; total time=   2.8s\n",
      "[CV] END classifier__learning_rate=0.01, classifier__max_depth=4, classifier__n_estimators=300; total time=   3.1s\n",
      "[CV] END classifier__learning_rate=0.1, classifier__max_depth=3, classifier__n_estimators=200; total time=   1.4s\n",
      "[CV] END classifier__learning_rate=0.1, classifier__max_depth=3, classifier__n_estimators=200; total time=   1.4s\n",
      "[CV] END classifier__learning_rate=0.1, classifier__max_depth=4, classifier__n_estimators=100; total time=   0.9s\n",
      "[CV] END classifier__learning_rate=0.1, classifier__max_depth=3, classifier__n_estimators=200; total time=   1.5s\n",
      "[CV] END classifier__learning_rate=0.1, classifier__max_depth=4, classifier__n_estimators=100; total time=   0.9s\n",
      "[CV] END classifier__learning_rate=0.1, classifier__max_depth=4, classifier__n_estimators=100; total time=   0.9s\n",
      "[CV] END classifier__learning_rate=0.2, classifier__max_depth=2, classifier__n_estimators=100; total time=   0.5s\n",
      "[CV] END classifier__learning_rate=0.2, classifier__max_depth=2, classifier__n_estimators=100; total time=   0.5s\n",
      "[CV] END classifier__learning_rate=0.2, classifier__max_depth=2, classifier__n_estimators=100; total time=   0.5s\n",
      "[CV] END classifier__learning_rate=0.1, classifier__max_depth=3, classifier__n_estimators=300; total time=   2.0s\n",
      "[CV] END classifier__learning_rate=0.1, classifier__max_depth=3, classifier__n_estimators=300; total time=   2.2s\n",
      "[CV] END classifier__learning_rate=0.1, classifier__max_depth=4, classifier__n_estimators=200; total time=   1.8s\n",
      "[CV] END classifier__learning_rate=0.1, classifier__max_depth=3, classifier__n_estimators=300; total time=   2.2s\n",
      "[CV] END classifier__learning_rate=0.1, classifier__max_depth=4, classifier__n_estimators=200; total time=   1.9s\n",
      "[CV] END classifier__learning_rate=0.1, classifier__max_depth=4, classifier__n_estimators=200; total time=   1.8s\n",
      "[CV] END classifier__learning_rate=0.2, classifier__max_depth=2, classifier__n_estimators=200; total time=   1.0s\n",
      "[CV] END classifier__learning_rate=0.2, classifier__max_depth=2, classifier__n_estimators=200; total time=   1.0s\n",
      "[CV] END classifier__learning_rate=0.2, classifier__max_depth=2, classifier__n_estimators=200; total time=   1.1s\n",
      "[CV] END classifier__learning_rate=0.2, classifier__max_depth=3, classifier__n_estimators=100; total time=   0.7s\n",
      "[CV] END classifier__learning_rate=0.2, classifier__max_depth=3, classifier__n_estimators=100; total time=   0.7s\n",
      "[CV] END classifier__learning_rate=0.2, classifier__max_depth=3, classifier__n_estimators=100; total time=   0.7s\n",
      "[CV] END classifier__learning_rate=0.2, classifier__max_depth=2, classifier__n_estimators=300; total time=   1.4s\n",
      "[CV] END classifier__learning_rate=0.1, classifier__max_depth=4, classifier__n_estimators=300; total time=   2.8s\n",
      "[CV] END classifier__learning_rate=0.2, classifier__max_depth=2, classifier__n_estimators=300; total time=   1.4s\n",
      "[CV] END classifier__learning_rate=0.1, classifier__max_depth=4, classifier__n_estimators=300; total time=   2.9s\n",
      "[CV] END classifier__learning_rate=0.2, classifier__max_depth=2, classifier__n_estimators=300; total time=   1.5s\n",
      "[CV] END classifier__learning_rate=0.1, classifier__max_depth=4, classifier__n_estimators=300; total time=   2.7s\n",
      "[CV] END classifier__learning_rate=0.2, classifier__max_depth=3, classifier__n_estimators=200; total time=   1.4s\n",
      "[CV] END classifier__learning_rate=0.2, classifier__max_depth=3, classifier__n_estimators=200; total time=   1.4s\n",
      "[CV] END classifier__learning_rate=0.2, classifier__max_depth=4, classifier__n_estimators=100; total time=   0.9s\n",
      "[CV] END classifier__learning_rate=0.2, classifier__max_depth=3, classifier__n_estimators=200; total time=   1.4s\n",
      "[CV] END classifier__learning_rate=0.2, classifier__max_depth=4, classifier__n_estimators=100; total time=   0.9s\n",
      "[CV] END classifier__learning_rate=0.2, classifier__max_depth=4, classifier__n_estimators=100; total time=   0.9s\n",
      "[CV] END classifier__learning_rate=0.2, classifier__max_depth=3, classifier__n_estimators=300; total time=   1.9s\n",
      "[CV] END classifier__learning_rate=0.2, classifier__max_depth=3, classifier__n_estimators=300; total time=   1.9s\n",
      "[CV] END classifier__learning_rate=0.2, classifier__max_depth=3, classifier__n_estimators=300; total time=   2.0s\n",
      "[CV] END classifier__learning_rate=0.2, classifier__max_depth=4, classifier__n_estimators=200; total time=   1.5s\n",
      "[CV] END classifier__learning_rate=0.2, classifier__max_depth=4, classifier__n_estimators=200; total time=   1.6s\n",
      "[CV] END classifier__learning_rate=0.2, classifier__max_depth=4, classifier__n_estimators=200; total time=   1.6s\n",
      "[CV] END classifier__learning_rate=0.2, classifier__max_depth=4, classifier__n_estimators=300; total time=   2.1s\n",
      "[CV] END classifier__learning_rate=0.2, classifier__max_depth=4, classifier__n_estimators=300; total time=   2.1s\n",
      "[CV] END classifier__learning_rate=0.2, classifier__max_depth=4, classifier__n_estimators=300; total time=   2.0s\n",
      "Best Parameters: {'classifier__learning_rate': 0.01, 'classifier__max_depth': 2, 'classifier__n_estimators': 100}\n",
      "Best ROC AUC (train CV): 0.7179495814123439\n",
      "Test ROC AUC: 0.718787601674929\n"
     ]
    }
   ],
   "source": [
    "from sklearn.model_selection import GridSearchCV\n",
    "from sklearn.ensemble import GradientBoostingClassifier\n",
    "\n",
    "# Define parameter grid\n",
    "param_grid = {\n",
    "    'classifier__n_estimators': [100, 200, 300],\n",
    "    'classifier__learning_rate': [0.01, 0.1, 0.2],\n",
    "    'classifier__max_depth': [2, 3, 4]\n",
    "}\n",
    "\n",
    "# Pipeline (reuse your preprocessor)\n",
    "gb_pipeline = Pipeline(steps=[\n",
    "    ('preprocessor', preprocessor),\n",
    "    ('classifier', GradientBoostingClassifier(random_state=42))\n",
    "])\n",
    "\n",
    "# Grid search\n",
    "grid_search = GridSearchCV(gb_pipeline, param_grid, \n",
    "                           cv=3, scoring='roc_auc', n_jobs=-1, verbose=2)\n",
    "\n",
    "grid_search.fit(X_train, y_train)\n",
    "\n",
    "print(\"Best Parameters:\", grid_search.best_params_)\n",
    "print(\"Best ROC AUC (train CV):\", grid_search.best_score_)\n",
    "\n",
    "# Evaluate on test set\n",
    "best_model = grid_search.best_estimator_\n",
    "y_pred_best = best_model.predict(X_test)\n",
    "\n",
    "print(\"Test ROC AUC:\", roc_auc_score(y_test, best_model.predict_proba(X_test)[:,1]))\n"
   ]
  },
  {
   "cell_type": "code",
   "execution_count": 65,
   "id": "26e3c900",
   "metadata": {},
   "outputs": [
    {
     "data": {
      "text/plain": [
       "['/run/media/yassien/Data/Data since/Epsilon AI/DSP/final_project/gradient_boosting_model3.pkl']"
      ]
     },
     "execution_count": 65,
     "metadata": {},
     "output_type": "execute_result"
    }
   ],
   "source": [
    "import joblib\n",
    "\n",
    "joblib.dump(model1, '/run/media/yassien/Data/Data since/Epsilon AI/DSP/final_project/logistic_regression_model1.pkl')\n",
    "joblib.dump(model2, '/run/media/yassien/Data/Data since/Epsilon AI/DSP/final_project/random_forest_model2.pkl')\n",
    "joblib.dump(model3, '/run/media/yassien/Data/Data since/Epsilon AI/DSP/final_project/gradient_boosting_model3.pkl')"
   ]
  },
  {
   "cell_type": "code",
   "execution_count": 91,
   "id": "2df7fd94",
   "metadata": {},
   "outputs": [
    {
     "name": "stdout",
     "output_type": "stream",
     "text": [
      "Overwriting final.py\n"
     ]
    }
   ],
   "source": [
    "%%writefile final.py\n",
    "\n",
    "import streamlit as st\n",
    "import pandas as pd\n",
    "import joblib\n",
    "import plotly.express as px\n",
    "\n",
    "df = pd.read_csv(\"customer_summary.csv\")\n",
    "\n",
    "st.set_page_config(page_title=\"Customer Churn Dashboard\", layout=\"wide\")\n",
    "st.title(\" Customer Churn Dashboard\")\n",
    "st.markdown(\"**By Hussein Mohamed Yousry | Data Science Final Project**\")\n",
    "\n",
    "st.sidebar.header(\" Key Metrics & Filters\")\n",
    "\n",
    "gender_filter = st.sidebar.multiselect(\"Select Gender\", options=df['gender'].dropna().unique())\n",
    "wealth_filter = st.sidebar.multiselect(\"Select Wealth Segment\", options=df['wealth_segment'].dropna().unique())\n",
    "car_filter = st.sidebar.multiselect(\"Select Car Ownership\", options=df['owns_car'].dropna().unique())\n",
    "\n",
    "df_filtered = df.copy()\n",
    "if gender_filter:\n",
    "    df_filtered = df_filtered[df_filtered['gender'].isin(gender_filter)]\n",
    "if wealth_filter:\n",
    "    df_filtered = df_filtered[df_filtered['wealth_segment'].isin(wealth_filter)]\n",
    "if car_filter:\n",
    "    df_filtered = df_filtered[df_filtered['owns_car'].isin(car_filter)]\n",
    "\n",
    "\n",
    "total_customers = df_filtered['customer_id'].nunique()\n",
    "churn_rate = round((df_filtered['churn'].mean()) * 100, 2)\n",
    "avg_spent = round(df_filtered['total_spent'].mean(), 2) if \"total_spent\" in df_filtered else 0\n",
    "avg_profit = round(df_filtered['total_profit'].mean(), 2) if \"total_profit\" in df_filtered else 0\n",
    "\n",
    "st.sidebar.metric(\"Total Customers\", total_customers)\n",
    "st.sidebar.metric(\"Churn Rate (%)\", churn_rate)\n",
    "st.sidebar.metric(\"Avg Spending\", f\"${avg_spent}\")\n",
    "st.sidebar.metric(\"Avg Profit\", f\"${avg_profit}\")\n",
    "\n",
    "tab1, tab2, tab3 = st.tabs([\" Customer Insights\", \" Transactions\", \" Churn Prediction\"])\n",
    "\n",
    "\n",
    "with tab1:\n",
    "    st.header(\"Customer Overview\")\n",
    "    st.markdown(\"Explore customer demographics, wealth, and behavior.\")\n",
    "\n",
    "    if \"age\" in df_filtered.columns:\n",
    "        fig_age = px.histogram(df_filtered, x=\"age\", nbins=20, title=\"Customer Age Distribution\")\n",
    "        st.plotly_chart(fig_age, use_container_width=True)\n",
    "\n",
    "    if \"wealth_segment\" in df_filtered.columns:\n",
    "        fig_ws = px.histogram(df_filtered, x=\"wealth_segment\", color=\"churn\", barmode=\"group\",\n",
    "                              title=\"Wealth Segment vs Churn\")\n",
    "        st.plotly_chart(fig_ws, use_container_width=True)\n",
    "\n",
    "    if \"owns_car\" in df_filtered.columns:\n",
    "        fig_car = px.histogram(df_filtered, x=\"owns_car\", color=\"churn\", barmode=\"group\",\n",
    "                               title=\"Car Ownership vs Churn\")\n",
    "        st.plotly_chart(fig_car, use_container_width=True)\n",
    "\n",
    "    if \"job_industry_category\" in df_filtered.columns:\n",
    "        job_counts = df_filtered['job_industry_category'].value_counts().reset_index()\n",
    "        job_counts.columns = ['job_industry_category', 'count']\n",
    "        job_counts = job_counts.sort_values(by=\"count\", ascending=False)\n",
    "\n",
    "        fig_job = px.bar(job_counts,\n",
    "                         x='job_industry_category',\n",
    "                         y='count',\n",
    "                         title=\"Job Industry Distribution\")\n",
    "        st.plotly_chart(fig_job, use_container_width=True)\n",
    "\n",
    "\n",
    "with tab2:\n",
    "    st.header(\"Transaction Insights\")\n",
    "    st.markdown(\"Analyze transaction patterns, spending, and churn impact.\")\n",
    "\n",
    "    if \"product_line\" in df_filtered.columns and \"total_profit\" in df_filtered.columns:\n",
    "        fig_pl = px.bar(df_filtered, x=\"product_line\", y=\"total_profit\", color=\"churn\",\n",
    "                        title=\"Total Profit by Product Line\", barmode=\"group\")\n",
    "        st.plotly_chart(fig_pl, use_container_width=True)\n",
    "\n",
    "    if \"profit_margin\" in df_filtered.columns:\n",
    "        fig_pm = px.histogram(df_filtered, x=\"profit_margin\", nbins=30, color=\"churn\",\n",
    "                              title=\"Profit Margin Distribution\")\n",
    "        st.plotly_chart(fig_pm, use_container_width=True)\n",
    "\n",
    "    if \"online_order\" in df_filtered.columns:\n",
    "        fig_order = px.pie(df_filtered, names=\"online_order\", title=\"Online vs In-Store Orders\")\n",
    "        st.plotly_chart(fig_order, use_container_width=True)\n",
    "\n",
    "    if \"total_spent\" in df_filtered.columns:\n",
    "        fig_churn_spent = px.box(df_filtered, x=\"churn\", y=\"total_spent\",\n",
    "                                 title=\"Spending by Churn Status\")\n",
    "        st.plotly_chart(fig_churn_spent, use_container_width=True)\n",
    "\n",
    "    numeric_cols = ['frequency', 'total_spent', 'total_profit', 'profit_margin', 'age', 'churn']\n",
    "    available_cols = [col for col in numeric_cols if col in df_filtered.columns]\n",
    "\n",
    "    if available_cols:\n",
    "        corr = df_filtered[available_cols].corr()\n",
    "        fig_corr = px.imshow(corr, text_auto=True, color_continuous_scale=\"RdBu_r\",\n",
    "                             title=\"Correlation Heatmap\")\n",
    "        st.plotly_chart(fig_corr, use_container_width=True)\n",
    "\n",
    "\n",
    "with tab3:\n",
    "    st.header(\"Churn Prediction\")\n",
    "    st.markdown(\"Upload customer data and predict churn using trained models.\")\n",
    "\n",
    "    model_choice = st.sidebar.selectbox(\n",
    "        \"Choose a model:\",\n",
    "        [\"Logistic Regression\", \"Random Forest\", \"Gradient Boosting\"]\n",
    "    )\n",
    "\n",
    "    if model_choice == \"Logistic Regression\":\n",
    "        model = joblib.load(\"logistic_regression_model1.pkl\")\n",
    "    elif model_choice == \"Random Forest\":\n",
    "        model = joblib.load(\"random_forest_model2.pkl\")\n",
    "    else:\n",
    "        model = joblib.load(\"gradient_boosting_model3.pkl\")\n",
    "\n",
    "    uploaded_file = st.file_uploader(\"Upload CSV for Prediction\", type=[\"csv\"])\n",
    "    if uploaded_file:\n",
    "        new_data = pd.read_csv(uploaded_file)\n",
    "        predictions = model.predict(new_data)\n",
    "        st.write(\"### Predictions\")\n",
    "        st.write(predictions)"
   ]
  },
  {
   "cell_type": "code",
   "execution_count": 92,
   "id": "7ce2f903",
   "metadata": {},
   "outputs": [
    {
     "name": "stdout",
     "output_type": "stream",
     "text": [
      "\u001b[0m\n",
      "\u001b[34m\u001b[1m  You can now view your Streamlit app in your browser.\u001b[0m\n",
      "\u001b[0m\n",
      "\u001b[34m  Local URL: \u001b[0m\u001b[1mhttp://localhost:8501\u001b[0m\n",
      "\u001b[34m  Network URL: \u001b[0m\u001b[1mhttp://192.168.1.129:8501\u001b[0m\n",
      "\u001b[0m\n",
      "\u001b[34m  Stopping...\u001b[0m\n",
      "^C\n"
     ]
    }
   ],
   "source": [
    "!streamlit run final.py"
   ]
  }
 ],
 "metadata": {
  "kernelspec": {
   "display_name": "Python 3",
   "language": "python",
   "name": "python3"
  },
  "language_info": {
   "codemirror_mode": {
    "name": "ipython",
    "version": 3
   },
   "file_extension": ".py",
   "mimetype": "text/x-python",
   "name": "python",
   "nbconvert_exporter": "python",
   "pygments_lexer": "ipython3",
   "version": "3.13.7"
  }
 },
 "nbformat": 4,
 "nbformat_minor": 5
}
